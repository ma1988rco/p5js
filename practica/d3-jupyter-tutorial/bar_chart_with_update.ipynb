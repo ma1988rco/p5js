{
 "cells": [
  {
   "cell_type": "markdown",
   "metadata": {},
   "source": [
    "# D3 Bar Chart with Update"
   ]
  },
  {
   "cell_type": "code",
   "execution_count": 37,
   "metadata": {},
   "outputs": [],
   "source": [
    "from IPython.core.display import display, HTML\n",
    "from string import Template\n",
    "import pandas as pd\n",
    "import json, random\n"
   ]
  },
  {
   "cell_type": "code",
   "execution_count": 38,
   "metadata": {},
   "outputs": [
    {
     "data": {
      "text/html": [
       "<script src=\"lib/d3/d3.min.js\"></script>"
      ],
      "text/plain": [
       "<IPython.core.display.HTML object>"
      ]
     },
     "execution_count": 38,
     "metadata": {},
     "output_type": "execute_result"
    }
   ],
   "source": [
    "HTML('<script src=\"lib/d3/d3.min.js\"></script>')"
   ]
  },
  {
   "cell_type": "code",
   "execution_count": 39,
   "metadata": {},
   "outputs": [],
   "source": [
    "html_template = Template('''\n",
    "<style> $css_text </style>\n",
    "<div id=\"graph-div\"></div>\n",
    "<script> $js_text </script>\n",
    "''')"
   ]
  },
  {
   "cell_type": "code",
   "execution_count": 40,
   "metadata": {},
   "outputs": [],
   "source": [
    "css_text = '''\n",
    "\n",
    ".bar {\n",
    "  fill: steelblue;\n",
    "}\n",
    "\n",
    ".bar:hover {\n",
    "  fill: brown;\n",
    "}\n",
    "\n",
    ".axis {\n",
    "  font: 10px sans-serif;\n",
    "}\n",
    "\n",
    ".axis path,\n",
    ".axis line {\n",
    "  fill: none;\n",
    "  stroke: #000;\n",
    "  shape-rendering: crispEdges;\n",
    "}\n",
    "\n",
    ".x.axis path {\n",
    "  display: none;\n",
    "}\n",
    "\n",
    "'''"
   ]
  },
  {
   "cell_type": "code",
   "execution_count": null,
   "metadata": {},
   "outputs": [],
   "source": []
  },
  {
   "cell_type": "code",
   "execution_count": 41,
   "metadata": {},
   "outputs": [],
   "source": [
    "js_text_template = Template('''\n",
    "\n",
    "var margin = {top: 20, right: 20, bottom: 30, left: 40},\n",
    "    width = 500 - margin.left - margin.right,\n",
    "    height = 300 - margin.top - margin.bottom;\n",
    "\n",
    "var x = d3.scale.ordinal()\n",
    "    .rangeRoundBands([0, width], .1);\n",
    "\n",
    "var y = d3.scale.linear()\n",
    "    .range([height, 0]);\n",
    "\n",
    "var xAxis = d3.svg.axis()\n",
    "    .scale(x)\n",
    "    .orient(\"bottom\");\n",
    "\n",
    "var yAxis = d3.svg.axis()\n",
    "    .scale(y)\n",
    "    .orient(\"left\");\n",
    "\n",
    "var svg = d3.select(\"#graph-div\").append(\"svg\")\n",
    "    .attr(\"width\", width + margin.left + margin.right)\n",
    "    .attr(\"height\", height + margin.top + margin.bottom)\n",
    "  .append(\"g\")\n",
    "    .attr(\"transform\", \"translate(\" + margin.left + \",\" + margin.top + \")\");\n",
    "\n",
    "var data = $data ;\n",
    "\n",
    "  x.domain(data.map(function(d) { return d.letter; }));\n",
    "  y.domain([0, d3.max(data, function(d) { return d.y; })]);\n",
    "\n",
    "  svg.append(\"g\")\n",
    "      .attr(\"class\", \"x axis\")\n",
    "      .attr(\"transform\", \"translate(0,\" + height + \")\")\n",
    "      .call(xAxis);\n",
    "\n",
    "  svg.append(\"g\")\n",
    "      .attr(\"class\", \"y axis\")\n",
    "      .call(yAxis);\n",
    "\n",
    "  svg.selectAll(\".bar\")\n",
    "      .data(data)\n",
    "    .enter().append(\"rect\")\n",
    "      .attr(\"class\", \"bar\")\n",
    "      .attr(\"x\", function(d) { return x(d.letter); })\n",
    "      .attr(\"width\", x.rangeBand())\n",
    "      .attr(\"y\", function(d) { return y(d.y); })\n",
    "      .attr(\"height\", function(d) { return height - y(d.y); });\n",
    "\n",
    "''')"
   ]
  },
  {
   "cell_type": "code",
   "execution_count": 43,
   "metadata": {},
   "outputs": [],
   "source": [
    "js_text_template_2 = Template('''\n",
    "\n",
    "var bars = svg.selectAll(\".bar\").data($data);\n",
    "  \n",
    "bars\n",
    "  .transition()\n",
    "    .attr(\"y\", function(d) { return y(d.y); })\n",
    "    .attr(\"height\", function(d) { return height - y(d.y); });\n",
    "\n",
    "''')"
   ]
  },
  {
   "cell_type": "code",
   "execution_count": 44,
   "metadata": {},
   "outputs": [],
   "source": [
    "#### Initial Data, Graph and Update"
   ]
  },
  {
   "cell_type": "code",
   "execution_count": 45,
   "metadata": {},
   "outputs": [
    {
     "data": {
      "text/html": [
       "<div>\n",
       "<style scoped>\n",
       "    .dataframe tbody tr th:only-of-type {\n",
       "        vertical-align: middle;\n",
       "    }\n",
       "\n",
       "    .dataframe tbody tr th {\n",
       "        vertical-align: top;\n",
       "    }\n",
       "\n",
       "    .dataframe thead th {\n",
       "        text-align: right;\n",
       "    }\n",
       "</style>\n",
       "<table border=\"1\" class=\"dataframe\">\n",
       "  <thead>\n",
       "    <tr style=\"text-align: right;\">\n",
       "      <th></th>\n",
       "      <th>letter</th>\n",
       "      <th>y</th>\n",
       "    </tr>\n",
       "  </thead>\n",
       "  <tbody>\n",
       "    <tr>\n",
       "      <th>0</th>\n",
       "      <td>A</td>\n",
       "      <td>0.5</td>\n",
       "    </tr>\n",
       "    <tr>\n",
       "      <th>1</th>\n",
       "      <td>B</td>\n",
       "      <td>1.0</td>\n",
       "    </tr>\n",
       "    <tr>\n",
       "      <th>2</th>\n",
       "      <td>C</td>\n",
       "      <td>1.0</td>\n",
       "    </tr>\n",
       "    <tr>\n",
       "      <th>3</th>\n",
       "      <td>D</td>\n",
       "      <td>1.0</td>\n",
       "    </tr>\n",
       "  </tbody>\n",
       "</table>\n",
       "</div>"
      ],
      "text/plain": [
       "  letter    y\n",
       "0      A  0.5\n",
       "1      B  1.0\n",
       "2      C  1.0\n",
       "3      D  1.0"
      ]
     },
     "execution_count": 45,
     "metadata": {},
     "output_type": "execute_result"
    }
   ],
   "source": [
    "data = pd.DataFrame({'letter': ['A','B','C','D'], 'y': [0.5,1,1,1]})\n",
    "data.head()"
   ]
  },
  {
   "cell_type": "code",
   "execution_count": 46,
   "metadata": {},
   "outputs": [
    {
     "data": {
      "text/html": [
       "\n",
       "<style> \n",
       "\n",
       ".bar {\n",
       "  fill: steelblue;\n",
       "}\n",
       "\n",
       ".bar:hover {\n",
       "  fill: brown;\n",
       "}\n",
       "\n",
       ".axis {\n",
       "  font: 10px sans-serif;\n",
       "}\n",
       "\n",
       ".axis path,\n",
       ".axis line {\n",
       "  fill: none;\n",
       "  stroke: #000;\n",
       "  shape-rendering: crispEdges;\n",
       "}\n",
       "\n",
       ".x.axis path {\n",
       "  display: none;\n",
       "}\n",
       "\n",
       " </style>\n",
       "<div id=\"graph-div\"></div>\n",
       "<script> \n",
       "\n",
       "var margin = {top: 20, right: 20, bottom: 30, left: 40},\n",
       "    width = 500 - margin.left - margin.right,\n",
       "    height = 300 - margin.top - margin.bottom;\n",
       "\n",
       "var x = d3.scale.ordinal()\n",
       "    .rangeRoundBands([0, width], .1);\n",
       "\n",
       "var y = d3.scale.linear()\n",
       "    .range([height, 0]);\n",
       "\n",
       "var xAxis = d3.svg.axis()\n",
       "    .scale(x)\n",
       "    .orient(\"bottom\");\n",
       "\n",
       "var yAxis = d3.svg.axis()\n",
       "    .scale(y)\n",
       "    .orient(\"left\");\n",
       "\n",
       "var svg = d3.select(\"#graph-div\").append(\"svg\")\n",
       "    .attr(\"width\", width + margin.left + margin.right)\n",
       "    .attr(\"height\", height + margin.top + margin.bottom)\n",
       "  .append(\"g\")\n",
       "    .attr(\"transform\", \"translate(\" + margin.left + \",\" + margin.top + \")\");\n",
       "\n",
       "var data = [{\"letter\": \"A\", \"y\": 0.5}, {\"letter\": \"B\", \"y\": 1.0}, {\"letter\": \"C\", \"y\": 1.0}, {\"letter\": \"D\", \"y\": 1.0}] ;\n",
       "\n",
       "  x.domain(data.map(function(d) { return d.letter; }));\n",
       "  y.domain([0, d3.max(data, function(d) { return d.y; })]);\n",
       "\n",
       "  svg.append(\"g\")\n",
       "      .attr(\"class\", \"x axis\")\n",
       "      .attr(\"transform\", \"translate(0,\" + height + \")\")\n",
       "      .call(xAxis);\n",
       "\n",
       "  svg.append(\"g\")\n",
       "      .attr(\"class\", \"y axis\")\n",
       "      .call(yAxis);\n",
       "\n",
       "  svg.selectAll(\".bar\")\n",
       "      .data(data)\n",
       "    .enter().append(\"rect\")\n",
       "      .attr(\"class\", \"bar\")\n",
       "      .attr(\"x\", function(d) { return x(d.letter); })\n",
       "      .attr(\"width\", x.rangeBand())\n",
       "      .attr(\"y\", function(d) { return y(d.y); })\n",
       "      .attr(\"height\", function(d) { return height - y(d.y); });\n",
       "\n",
       " </script>\n"
      ],
      "text/plain": [
       "<IPython.core.display.HTML object>"
      ]
     },
     "execution_count": 46,
     "metadata": {},
     "output_type": "execute_result"
    }
   ],
   "source": [
    "js_text = js_text_template.substitute({'data': json.dumps(data.to_dict(orient='records'))})\n",
    "HTML(html_template.substitute({'css_text': css_text, 'js_text': js_text}))"
   ]
  },
  {
   "cell_type": "code",
   "execution_count": 47,
   "metadata": {},
   "outputs": [
    {
     "data": {
      "text/html": [
       "<script>\n",
       "\n",
       "var bars = svg.selectAll(\".bar\").data([{\"letter\": \"A\", \"y\": 0.827569711194507}, {\"letter\": \"B\", \"y\": 0.9584329447180845}, {\"letter\": \"C\", \"y\": 0.39777324880723797}, {\"letter\": \"D\", \"y\": 0.5054341928234437}]);\n",
       "  \n",
       "bars\n",
       "  .transition()\n",
       "    .attr(\"y\", function(d) { return y(d.y); })\n",
       "    .attr(\"height\", function(d) { return height - y(d.y); });\n",
       "\n",
       "</script>"
      ],
      "text/plain": [
       "<IPython.core.display.HTML object>"
      ]
     },
     "execution_count": 47,
     "metadata": {},
     "output_type": "execute_result"
    }
   ],
   "source": [
    "data['y'] = [random.uniform(0,1) for d in data['y']]\n",
    "js_text = js_text_template_2.substitute({'data': json.dumps(data.to_dict(orient='records'))})\n",
    "HTML('<script>' + js_text + '</script>')"
   ]
  },
  {
   "cell_type": "markdown",
   "metadata": {},
   "source": [
    "This example is based on the canonical [simple bar chart](http://bl.ocks.org/mbostock/3885304) example, but with a minor twist - a data update is added to the chart in a Jupyter cell below the chart, which updates the chart with a transition."
   ]
  },
  {
   "cell_type": "markdown",
   "metadata": {},
   "source": [
    "#### Notebook Config"
   ]
  },
  {
   "cell_type": "code",
   "execution_count": 17,
   "metadata": {},
   "outputs": [],
   "source": [
    "from IPython.core.display import display, HTML\n",
    "from string import Template\n",
    "import pandas as pd\n",
    "import json, random\n"
   ]
  },
  {
   "cell_type": "code",
   "execution_count": 18,
   "metadata": {},
   "outputs": [
    {
     "data": {
      "text/html": [
       "<script src=\"lib/d3/d3.min.js\"></script>"
      ],
      "text/plain": [
       "<IPython.core.display.HTML object>"
      ]
     },
     "execution_count": 18,
     "metadata": {},
     "output_type": "execute_result"
    }
   ],
   "source": [
    "HTML('<script src=\"lib/d3/d3.min.js\"></script>')"
   ]
  },
  {
   "cell_type": "markdown",
   "metadata": {},
   "source": [
    "#### Graph Config"
   ]
  },
  {
   "cell_type": "code",
   "execution_count": 19,
   "metadata": {},
   "outputs": [],
   "source": [
    "html_template = Template('''\n",
    "<style> $css_text </style>\n",
    "<div id=\"graph-div\"></div>\n",
    "<script> $js_text </script>\n",
    "''')"
   ]
  },
  {
   "cell_type": "code",
   "execution_count": 50,
   "metadata": {},
   "outputs": [],
   "source": [
    "css_text = '''\n",
    "\n",
    ".bar {\n",
    "  fill: steelblue;\n",
    "}\n",
    "\n",
    ".bar:hover {\n",
    "  fill: brown;\n",
    "}\n",
    "\n",
    ".axis {\n",
    "  font: 10px sans-serif;\n",
    "}\n",
    "\n",
    ".axis path,\n",
    ".axis line {\n",
    "  fill: none;\n",
    "  stroke: #000;\n",
    "  shape-rendering: crispEdges;\n",
    "}\n",
    "\n",
    ".x.axis path {\n",
    "  display: none;\n",
    "}\n",
    "\n",
    "'''"
   ]
  },
  {
   "cell_type": "code",
   "execution_count": null,
   "metadata": {},
   "outputs": [],
   "source": []
  },
  {
   "cell_type": "code",
   "execution_count": 51,
   "metadata": {},
   "outputs": [],
   "source": [
    "js_text_template = Template('''\n",
    "\n",
    "var margin = {top: 20, right: 20, bottom: 30, left: 40},\n",
    "    width = 500 - margin.left - margin.right,\n",
    "    height = 300 - margin.top - margin.bottom;\n",
    "\n",
    "var x = d3.scale.ordinal()\n",
    "    .rangeRoundBands([0, width], .1);\n",
    "\n",
    "var y = d3.scale.linear()\n",
    "    .range([height, 0]);\n",
    "\n",
    "var xAxis = d3.svg.axis()\n",
    "    .scale(x)\n",
    "    .orient(\"bottom\");\n",
    "\n",
    "var yAxis = d3.svg.axis()\n",
    "    .scale(y)\n",
    "    .orient(\"left\");\n",
    "\n",
    "var svg = d3.select(\"#graph-div\").append(\"svg\")\n",
    "    .attr(\"width\", width + margin.left + margin.right)\n",
    "    .attr(\"height\", height + margin.top + margin.bottom)\n",
    "  .append(\"g\")\n",
    "    .attr(\"transform\", \"translate(\" + margin.left + \",\" + margin.top + \")\");\n",
    "\n",
    "var data = $data ;\n",
    "\n",
    "  x.domain(data.map(function(d) { return d.letter; }));\n",
    "  y.domain([0, d3.max(data, function(d) { return d.y; })]);\n",
    "\n",
    "  svg.append(\"g\")\n",
    "      .attr(\"class\", \"x axis\")\n",
    "      .attr(\"transform\", \"translate(0,\" + height + \")\")\n",
    "      .call(xAxis);\n",
    "\n",
    "  svg.append(\"g\")\n",
    "      .attr(\"class\", \"y axis\")\n",
    "      .call(yAxis);\n",
    "\n",
    "  svg.selectAll(\".bar\")\n",
    "      .data(data)\n",
    "    .enter().append(\"rect\")\n",
    "      .attr(\"class\", \"bar\")\n",
    "      .attr(\"x\", function(d) { return x(d.letter); })\n",
    "      .attr(\"width\", x.rangeBand())\n",
    "      .attr(\"y\", function(d) { return y(d.y); })\n",
    "      .attr(\"height\", function(d) { return height - y(d.y); });\n",
    "\n",
    "''')"
   ]
  },
  {
   "cell_type": "code",
   "execution_count": 52,
   "metadata": {},
   "outputs": [],
   "source": [
    "js_text_template_2 = Template('''\n",
    "\n",
    "var bars = svg.selectAll(\".bar\").data($data);\n",
    "  \n",
    "bars\n",
    "  .transition()\n",
    "    .attr(\"y\", function(d) { return y(d.y); })\n",
    "    .attr(\"height\", function(d) { return height - y(d.y); });\n",
    "\n",
    "''')"
   ]
  },
  {
   "cell_type": "markdown",
   "metadata": {},
   "source": [
    "    #### Initial Data, Graph and Update"
   ]
  },
  {
   "cell_type": "code",
   "execution_count": 53,
   "metadata": {},
   "outputs": [
    {
     "data": {
      "text/html": [
       "<div>\n",
       "<style scoped>\n",
       "    .dataframe tbody tr th:only-of-type {\n",
       "        vertical-align: middle;\n",
       "    }\n",
       "\n",
       "    .dataframe tbody tr th {\n",
       "        vertical-align: top;\n",
       "    }\n",
       "\n",
       "    .dataframe thead th {\n",
       "        text-align: right;\n",
       "    }\n",
       "</style>\n",
       "<table border=\"1\" class=\"dataframe\">\n",
       "  <thead>\n",
       "    <tr style=\"text-align: right;\">\n",
       "      <th></th>\n",
       "      <th>letter</th>\n",
       "      <th>y</th>\n",
       "    </tr>\n",
       "  </thead>\n",
       "  <tbody>\n",
       "    <tr>\n",
       "      <th>0</th>\n",
       "      <td>A</td>\n",
       "      <td>0.5</td>\n",
       "    </tr>\n",
       "    <tr>\n",
       "      <th>1</th>\n",
       "      <td>B</td>\n",
       "      <td>1.0</td>\n",
       "    </tr>\n",
       "    <tr>\n",
       "      <th>2</th>\n",
       "      <td>C</td>\n",
       "      <td>1.0</td>\n",
       "    </tr>\n",
       "    <tr>\n",
       "      <th>3</th>\n",
       "      <td>D</td>\n",
       "      <td>1.0</td>\n",
       "    </tr>\n",
       "  </tbody>\n",
       "</table>\n",
       "</div>"
      ],
      "text/plain": [
       "  letter    y\n",
       "0      A  0.5\n",
       "1      B  1.0\n",
       "2      C  1.0\n",
       "3      D  1.0"
      ]
     },
     "execution_count": 53,
     "metadata": {},
     "output_type": "execute_result"
    }
   ],
   "source": [
    "data = pd.DataFrame({'letter': ['A','B','C','D'], 'y': [1,1,1,1]})\n",
    "data.head()"
   ]
  },
  {
   "cell_type": "code",
   "execution_count": 54,
   "metadata": {
    "scrolled": true
   },
   "outputs": [
    {
     "data": {
      "text/html": [
       "\n",
       "<style> \n",
       "\n",
       ".bar {\n",
       "  fill: steelred;\n",
       "}\n",
       "\n",
       ".bar:hover {\n",
       "  fill: brown;\n",
       "}\n",
       "\n",
       ".axis {\n",
       "  font: 10px sans-serif;\n",
       "}\n",
       "\n",
       ".axis path,\n",
       ".axis line {\n",
       "  fill: none;\n",
       "  stroke: #000;\n",
       "  shape-rendering: crispEdges;\n",
       "}\n",
       "\n",
       ".x.axis path {\n",
       "  display: none;\n",
       "}\n",
       "\n",
       " </style>\n",
       "<div id=\"graph-div\"></div>\n",
       "<script> \n",
       "\n",
       "var margin = {top: 20, right: 20, bottom: 30, left: 40},\n",
       "    width = 500 - margin.left - margin.right,\n",
       "    height = 300 - margin.top - margin.bottom;\n",
       "\n",
       "var x = d3.scale.ordinal()\n",
       "    .rangeRoundBands([0, width], .1);\n",
       "\n",
       "var y = d3.scale.linear()\n",
       "    .range([height, 0]);\n",
       "\n",
       "var xAxis = d3.svg.axis()\n",
       "    .scale(x)\n",
       "    .orient(\"bottom\");\n",
       "\n",
       "var yAxis = d3.svg.axis()\n",
       "    .scale(y)\n",
       "    .orient(\"left\");\n",
       "\n",
       "var svg = d3.select(\"#graph-div\").append(\"svg\")\n",
       "    .attr(\"width\", width + margin.left + margin.right)\n",
       "    .attr(\"height\", height + margin.top + margin.bottom)\n",
       "  .append(\"g\")\n",
       "    .attr(\"transform\", \"translate(\" + margin.left + \",\" + margin.top + \")\");\n",
       "\n",
       "var data = [{\"letter\": \"A\", \"y\": 0.5}, {\"letter\": \"B\", \"y\": 1.0}, {\"letter\": \"C\", \"y\": 1.0}, {\"letter\": \"D\", \"y\": 1.0}] ;\n",
       "\n",
       "  x.domain(data.map(function(d) { return d.letter; }));\n",
       "  y.domain([0, d3.max(data, function(d) { return d.y; })]);\n",
       "\n",
       "  svg.append(\"g\")\n",
       "      .attr(\"class\", \"x axis\")\n",
       "      .attr(\"transform\", \"translate(0,\" + height + \")\")\n",
       "      .call(xAxis);\n",
       "\n",
       "  svg.append(\"g\")\n",
       "      .attr(\"class\", \"y axis\")\n",
       "      .call(yAxis);\n",
       "\n",
       "  svg.selectAll(\".bar\")\n",
       "      .data(data)\n",
       "    .enter().append(\"rect\")\n",
       "      .attr(\"class\", \"bar\")\n",
       "      .attr(\"x\", function(d) { return x(d.letter); })\n",
       "      .attr(\"width\", x.rangeBand())\n",
       "      .attr(\"y\", function(d) { return y(d.y); })\n",
       "      .attr(\"height\", function(d) { return height - y(d.y); });\n",
       "\n",
       " </script>\n"
      ],
      "text/plain": [
       "<IPython.core.display.HTML object>"
      ]
     },
     "execution_count": 54,
     "metadata": {},
     "output_type": "execute_result"
    }
   ],
   "source": [
    "js_text = js_text_template.substitute({'data': json.dumps(data.to_dict(orient='records'))})\n",
    "HTML(html_template.substitute({'css_text': css_text, 'js_text': js_text}))"
   ]
  },
  {
   "cell_type": "code",
   "execution_count": 55,
   "metadata": {},
   "outputs": [
    {
     "data": {
      "text/html": [
       "<script>\n",
       "\n",
       "var bars = svg.selectAll(\".bar\").data([{\"letter\": \"A\", \"y\": 0.5739895417509356}, {\"letter\": \"B\", \"y\": 0.68781870414983}, {\"letter\": \"C\", \"y\": 0.6654036158712787}, {\"letter\": \"D\", \"y\": 0.45211801630787085}]);\n",
       "  \n",
       "bars\n",
       "  .transition()\n",
       "    .attr(\"y\", function(d) { return y(d.y); })\n",
       "    .attr(\"height\", function(d) { return height - y(d.y); });\n",
       "\n",
       "</script>"
      ],
      "text/plain": [
       "<IPython.core.display.HTML object>"
      ]
     },
     "execution_count": 55,
     "metadata": {},
     "output_type": "execute_result"
    }
   ],
   "source": [
    "data['y'] = [random.uniform(0,1) for d in data['y']]\n",
    "js_text = js_text_template_2.substitute({'data': json.dumps(data.to_dict(orient='records'))})\n",
    "HTML('<script>' + js_text + '</script>')"
   ]
  },
  {
   "cell_type": "markdown",
   "metadata": {},
   "source": [
    "Re-run this last cell (ctrl-Enter lets you run it and stay put) and watch it transition the graph above it. "
   ]
  },
  {
   "cell_type": "code",
   "execution_count": null,
   "metadata": {},
   "outputs": [],
   "source": []
  }
 ],
 "metadata": {
  "kernelspec": {
   "display_name": "Python 3",
   "language": "python",
   "name": "python3"
  },
  "language_info": {
   "codemirror_mode": {
    "name": "ipython",
    "version": 3
   },
   "file_extension": ".py",
   "mimetype": "text/x-python",
   "name": "python",
   "nbconvert_exporter": "python",
   "pygments_lexer": "ipython3",
   "version": "3.6.4"
  }
 },
 "nbformat": 4,
 "nbformat_minor": 1
}
