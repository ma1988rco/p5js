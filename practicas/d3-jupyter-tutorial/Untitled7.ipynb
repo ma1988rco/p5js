{
 "cells": [
  {
   "cell_type": "code",
   "execution_count": 12,
   "metadata": {},
   "outputs": [
    {
     "data": {
      "text/html": [
       "\n",
       "        <iframe\n",
       "            width=\"100%\"\n",
       "            height=\"400\"\n",
       "            src=\"p5-9.html\"\n",
       "            frameborder=\"0\"\n",
       "            allowfullscreen\n",
       "        ></iframe>\n",
       "        "
      ],
      "text/plain": [
       "<IPython.lib.display.IFrame at 0x104d8b828>"
      ]
     },
     "execution_count": 12,
     "metadata": {},
     "output_type": "execute_result"
    }
   ],
   "source": [
    "from IPython.core.magic import register_cell_magic\n",
    "from IPython.display import IFrame\n",
    "\n",
    "TEMPLATE = \"\"\"\n",
    "<html>\n",
    "<head>\n",
    "<script src=\"https://cdnjs.cloudflare.com/ajax/libs/p5.js/0.4.6/p5.js\"></script>\n",
    "<script src=\"https://cdnjs.cloudflare.com/ajax/libs/p5.js/0.4.6/addons/p5.dom.js\"></script>\n",
    "<script src=\"https://cdnjs.cloudflare.com/ajax/libs/p5.js/0.4.6/addons/p5.sound.js\"></script>\n",
    "\n",
    "</head>\n",
    "<body>\n",
    "<h3>Script: %(name)s</h3>\n",
    "<script>\n",
    "%(script)s\n",
    "</script>\n",
    "</body>\n",
    "</html>\n",
    "\"\"\"\n",
    "\n",
    "COUNT = 0\n",
    "\n",
    "@register_cell_magic\n",
    "def p5(line, cell):\n",
    "    global COUNT\n",
    "    filename = \"p5-%s.html\" % COUNT\n",
    "    COUNT += 1\n",
    "    with open(filename, \"w\") as fp:\n",
    "        fp.write(TEMPLATE % {\"script\": cell, \"name\": filename})\n",
    "    return IFrame(filename, width=\"100%\", height=\"400\")\n",
    "\n",
    "del p5"
   ]
  },
  {
   "cell_type": "code",
   "execution_count": 2,
   "metadata": {},
   "outputs": [],
   "source": [
    "from IPython.core.magic import register_cell_magic\n",
    "from IPython.display import IFrame\n",
    "\n",
    "TEMPLATE = \"\"\"\n",
    "<html>\n",
    "<head>\n",
    "<script src=\"https://cdnjs.cloudflare.com/ajax/libs/p5.js/0.4.6/p5.js\"></script>\n",
    "<script src=\"https://cdnjs.cloudflare.com/ajax/libs/p5.js/0.4.6/addons/p5.dom.js\"></script>\n",
    "<script src=\"https://cdnjs.cloudflare.com/ajax/libs/p5.js/0.4.6/addons/p5.sound.js\"></script>\n",
    "\n",
    "</head>\n",
    "<body>\n",
    "<h3>Script: %(name)s</h3>\n",
    "<script>\n",
    "%(script)s\n",
    "</script>\n",
    "</body>\n",
    "</html>\n",
    "\"\"\"\n",
    "\n",
    "COUNT = 0\n",
    "\n",
    "@register_cell_magic\n",
    "def p5(line, cell):\n",
    "    global COUNT\n",
    "    filename = \"p5-%s.html\" % COUNT\n",
    "    COUNT += 1\n",
    "    with open(filename, \"w\") as fp:\n",
    "        fp.write(TEMPLATE % {\"script\": cell, \"name\": filename})\n",
    "    return IFrame(filename, width=\"100%\", height=\"400\")\n",
    "\n",
    "del p5"
   ]
  },
  {
   "cell_type": "code",
   "execution_count": null,
   "metadata": {},
   "outputs": [],
   "source": []
  },
  {
   "cell_type": "code",
   "execution_count": null,
   "metadata": {},
   "outputs": [],
   "source": []
  }
 ],
 "metadata": {
  "kernelspec": {
   "display_name": "Python 3",
   "language": "python",
   "name": "python3"
  },
  "language_info": {
   "codemirror_mode": {
    "name": "ipython",
    "version": 3
   },
   "file_extension": ".py",
   "mimetype": "text/x-python",
   "name": "python",
   "nbconvert_exporter": "python",
   "pygments_lexer": "ipython3",
   "version": "3.6.4"
  }
 },
 "nbformat": 4,
 "nbformat_minor": 2
}
