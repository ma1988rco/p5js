{
 "cells": [
  {
   "cell_type": "code",
   "execution_count": 1,
   "metadata": {},
   "outputs": [],
   "source": [
    "from IPython.core.magic import register_cell_magic\n",
    "from IPython.display import IFrame\n",
    "\n",
    "TEMPLATE = \"\"\"\n",
    "<html>\n",
    "<head>\n",
    "<script src=\"https://cdnjs.cloudflare.com/ajax/libs/p5.js/0.4.6/p5.js\"></script>\n",
    "<script src=\"https://cdnjs.cloudflare.com/ajax/libs/p5.js/0.4.6/addons/p5.dom.js\"></script>\n",
    "<script src=\"https://cdnjs.cloudflare.com/ajax/libs/p5.js/0.4.6/addons/p5.sound.js\"></script>\n",
    "\n",
    "</head>\n",
    "<body>\n",
    "<h3>Script: %(name)s</h3> \n",
    "<script>\n",
    "%(script)s\n",
    "</script>\n",
    "</body>\n",
    "</html>\n",
    "\"\"\"\n",
    "\n",
    "COUNT = 0\n",
    "\n",
    "@register_cell_magic\n",
    "def p5(line, cell):\n",
    "    global COUNT\n",
    "    filename = \"p5-%s.html\" % COUNT\n",
    "    COUNT += 1\n",
    "    with open(filename, \"w\") as fp:\n",
    "        fp.write(TEMPLATE % {\"script\": cell, \"name\": filename})\n",
    "    return IFrame(filename, width=\"100%\", height=\"400\")\n",
    "\n",
    "del p5"
   ]
  },
  {
   "cell_type": "code",
   "execution_count": 3,
   "metadata": {},
   "outputs": [
    {
     "data": {
      "text/html": [
       "\n",
       "        <iframe\n",
       "            width=\"100%\"\n",
       "            height=\"400\"\n",
       "            src=\"p5-0.html\"\n",
       "            frameborder=\"0\"\n",
       "            allowfullscreen\n",
       "        ></iframe>\n",
       "        "
      ],
      "text/plain": [
       "<IPython.lib.display.IFrame at 0x104da0710>"
      ]
     },
     "execution_count": 3,
     "metadata": {},
     "output_type": "execute_result"
    }
   ],
   "source": [
    "%%p5        //1.1: introduccion tuttorial//\n",
    "\n",
    "function setup() {\n",
    "  createCanvas(400, 400);\n",
    "}\n",
    "\n",
    "function draw() {\n",
    "  background(255,0,100);\n",
    "  ellipse(100,100, 50, 50);\n",
    "}"
   ]
  },
  {
   "cell_type": "code",
   "execution_count": 597,
   "metadata": {},
   "outputs": [
    {
     "data": {
      "text/html": [
       "\n",
       "        <iframe\n",
       "            width=\"100%\"\n",
       "            height=\"400\"\n",
       "            src=\"p5-591.html\"\n",
       "            frameborder=\"0\"\n",
       "            allowfullscreen\n",
       "        ></iframe>\n",
       "        "
      ],
      "text/plain": [
       "<IPython.lib.display.IFrame at 0x104eac5c0>"
      ]
     },
     "execution_count": 597,
     "metadata": {},
     "output_type": "execute_result"
    }
   ],
   "source": [
    "%%p5                  //1.2: with Brackets- tutorial\n",
    "\n",
    "function setup() {\n",
    "  createCanvas(400, 400);\n",
    "}\n",
    "\n",
    "function draw() {\n",
    "  background(255,0,255);\n",
    "  ellipse(200,200, 50, 50);\n",
    "}"
   ]
  },
  {
   "cell_type": "code",
   "execution_count": 598,
   "metadata": {},
   "outputs": [
    {
     "data": {
      "text/html": [
       "\n",
       "        <iframe\n",
       "            width=\"100%\"\n",
       "            height=\"400\"\n",
       "            src=\"p5-592.html\"\n",
       "            frameborder=\"0\"\n",
       "            allowfullscreen\n",
       "        ></iframe>\n",
       "        "
      ],
      "text/plain": [
       "<IPython.lib.display.IFrame at 0x104eac278>"
      ]
     },
     "execution_count": 598,
     "metadata": {},
     "output_type": "execute_result"
    }
   ],
   "source": [
    "%%p5            //1.3: conceptos basicos de dibujo\n",
    "\n",
    "function setup() {\n",
    "    createCanvas(640, 360);\n",
    "\n",
    "}\n",
    "\n",
    "function draw() {\n",
    "    rect(100, 200, 75, 150);\n",
    "}"
   ]
  },
  {
   "cell_type": "code",
   "execution_count": 571,
   "metadata": {},
   "outputs": [
    {
     "data": {
      "text/html": [
       "\n",
       "        <iframe\n",
       "            width=\"100%\"\n",
       "            height=\"400\"\n",
       "            src=\"p5-567.html\"\n",
       "            frameborder=\"0\"\n",
       "            allowfullscreen\n",
       "        ></iframe>\n",
       "        "
      ],
      "text/plain": [
       "<IPython.lib.display.IFrame at 0x104e8a828>"
      ]
     },
     "execution_count": 571,
     "metadata": {},
     "output_type": "execute_result"
    }
   ],
   "source": [
    "%%p5                    //1.4: colores tutoriales\n",
    "\n",
    "function setup() {\n",
    "    createCanvas(480, 270);\n",
    "}\n",
    "\n",
    "function draw() {\n",
    "    background(200 , 200, 0); // color fondo \n",
    "    ellipseMode(CENTER);\n",
    "    rectMode(CENTER);\n",
    "    \n",
    "    \n",
    "    //cuerpo\n",
    "    fill(255, 0, 0);\n",
    "    rect(240, 145, 20, 100);\n",
    "    \n",
    "    //cabeza\n",
    "    fill(0, 0, 255, 100); //fill  poner color a cada parte de la fivura\n",
    "    ellipse(240, 115, 60, 60);\n",
    "    \n",
    "    //ojos\n",
    "    fill(0, 255, 0);\n",
    "    ellipse(221, 115, 16, 32);\n",
    "    ellipse(259, 115, 16, 32);\n",
    "    \n",
    "    //piernas\n",
    "    \n",
    "    line(230, 195, 220, 205);\n",
    "    line(250, 195, 260, 205);\n",
    "}"
   ]
  },
  {
   "cell_type": "code",
   "execution_count": 572,
   "metadata": {},
   "outputs": [
    {
     "data": {
      "text/html": [
       "\n",
       "        <iframe\n",
       "            width=\"100%\"\n",
       "            height=\"400\"\n",
       "            src=\"p5-568.html\"\n",
       "            frameborder=\"0\"\n",
       "            allowfullscreen\n",
       "        ></iframe>\n",
       "        "
      ],
      "text/plain": [
       "<IPython.lib.display.IFrame at 0x104e8a860>"
      ]
     },
     "execution_count": 572,
     "metadata": {},
     "output_type": "execute_result"
    }
   ],
   "source": [
    "%%p5                    // 1.4:Variables X,Y tutorial\n",
    "\n",
    "function setup() {\n",
    "  createCanvas(600, 400);  \n",
    "    //background\n",
    "  background(250, 250, 100);\n",
    "}\n",
    "\n",
    "\n",
    "function draw() {\n",
    "  \n",
    "    // elipse\n",
    "    noStroke();\n",
    "    fill(250, 200, 200, 50);\n",
    "    ellipse(mouseX, mouseY, 25, 25);\n",
    "    \n",
    "    //rectangulo\n",
    "    fill(200, 250, 200);\n",
    "    rect(400, 100, 50, 50);\n",
    "}\n",
    "\n",
    "function mousePressed() {\n",
    "    background(250, 250, 100);\n",
    "}"
   ]
  },
  {
   "cell_type": "code",
   "execution_count": 599,
   "metadata": {},
   "outputs": [
    {
     "data": {
      "text/html": [
       "\n",
       "        <iframe\n",
       "            width=\"100%\"\n",
       "            height=\"400\"\n",
       "            src=\"p5-593.html\"\n",
       "            frameborder=\"0\"\n",
       "            allowfullscreen\n",
       "        ></iframe>\n",
       "        "
      ],
      "text/plain": [
       "<IPython.lib.display.IFrame at 0x104e97978>"
      ]
     },
     "execution_count": 599,
     "metadata": {},
     "output_type": "execute_result"
    }
   ],
   "source": [
    "%%p5                   //2.2:Variables em pj5\n",
    "\n",
    "var trianX= 0;\n",
    "var trianY= 600;\n",
    "\n",
    "function setup(){\n",
    "    createCanvas(600, 400);\n",
    "}\n",
    "\n",
    "function draw(){\n",
    "    \n",
    "    //color de fondo\n",
    "    background(250, 250, 100);\n",
    "    \n",
    "    //elipse\n",
    "    fill(250, 200, 200);\n",
    "    ellipse(trianX, 200, 80, 80);\n",
    "    \n",
    "    fill(250, 200, 200);\n",
    "    ellipse(trianY, 200, 80, 80);\n",
    "    \n",
    "   \n",
    "    trianX = trianX  + 1;\n",
    "    trianY = trianY  - 1;\n",
    "}\n",
    "\n"
   ]
  },
  {
   "cell_type": "code",
   "execution_count": 600,
   "metadata": {},
   "outputs": [
    {
     "data": {
      "text/html": [
       "\n",
       "        <iframe\n",
       "            width=\"100%\"\n",
       "            height=\"400\"\n",
       "            src=\"p5-594.html\"\n",
       "            frameborder=\"0\"\n",
       "            allowfullscreen\n",
       "        ></iframe>\n",
       "        "
      ],
      "text/plain": [
       "<IPython.lib.display.IFrame at 0x104eac898>"
      ]
     },
     "execution_count": 600,
     "metadata": {},
     "output_type": "execute_result"
    }
   ],
   "source": [
    "%%p5    //logo deep dive\n",
    "\n",
    "var trian1X= 0;\n",
    "var trian2X= 600;\n",
    "\n",
    "\n",
    "function setup(){\n",
    "    createCanvas(600, 400);\n",
    "}\n",
    "\n",
    "function draw(){\n",
    "    \n",
    "    //color de fondo\n",
    "    background(255, 255, 255);\n",
    "    \n",
    "   \n",
    "    fill(0, 255, 255, 200);\n",
    "    triangle(trian1X, 220, trian1X-200 ,220, (trian1X+trian1X-200)/2,-0);\n",
    "    \n",
    "    fill(0, 0, 255, 100);\n",
    "    triangle(trian2X,180, trian2X-200, 180, (trian2X+trian2X-200)/2, 400);\n",
    "    \n",
    "    if(trian2X-19>trian1X){\n",
    "        trian1X = trian1X  + 5;\n",
    "        trian2X = trian2X  - 5;\n",
    "    \n",
    "    }\n",
    "}\n",
    "\n"
   ]
  },
  {
   "cell_type": "markdown",
   "metadata": {},
   "source": [
    "## %%p5\n",
    "\n",
    "var circle = {\n",
    "    x: 0,\n",
    "    y: 200,\n",
    "    diameter: 50\n",
    "};\n",
    "\n",
    "var r = 218;\n",
    "var g = 160;\n",
    "var b = 221;\n",
    "\n",
    "function setup(){\n",
    "  createCanvas(600, 400);\n",
    "}\n",
    "\n",
    "\n",
    "function draw() {\n",
    "    // color de fondo\n",
    "    background(r, g, b);\n",
    "    //elipse\n",
    "    fill(250, 200, 200);\n",
    "    ellipse(circle.x, circle.y, circle.diameter, circle. diameter);\n",
    "    \n",
    "   circle.x = circle.x + 1;\n",
    "    \n",
    "}\n"
   ]
  },
  {
   "cell_type": "code",
   "execution_count": 605,
   "metadata": {},
   "outputs": [
    {
     "data": {
      "text/html": [
       "\n",
       "        <iframe\n",
       "            width=\"100%\"\n",
       "            height=\"400\"\n",
       "            src=\"p5-599.html\"\n",
       "            frameborder=\"0\"\n",
       "            allowfullscreen\n",
       "        ></iframe>\n",
       "        "
      ],
      "text/plain": [
       "<IPython.lib.display.IFrame at 0x104eaca20>"
      ]
     },
     "execution_count": 605,
     "metadata": {},
     "output_type": "execute_result"
    }
   ],
   "source": [
    "%%p5              // 2.3: objetos de Java Script\n",
    "\n",
    "var circle = {\n",
    "    x: 0,\n",
    "    y: 200,\n",
    "    diameter: 50\n",
    "};\n",
    "\n",
    "var r = 218;\n",
    "var g = 160;\n",
    "var b = 221;\n",
    "\n",
    "function setup(){\n",
    "  createCanvas(600, 400);\n",
    "}\n",
    "\n",
    "\n",
    "function draw() {\n",
    "    // color de fondo\n",
    "    background(r, g, b);\n",
    "    //elipse\n",
    "    fill(250, 200, 200);\n",
    "    ellipse(circle.x, circle.y, circle.diameter, circle. diameter);\n",
    "    \n",
    "   circle.x = circle.x + 1;\n",
    "    \n",
    "}\n"
   ]
  },
  {
   "cell_type": "code",
   "execution_count": 606,
   "metadata": {
    "scrolled": true
   },
   "outputs": [
    {
     "data": {
      "text/html": [
       "\n",
       "        <iframe\n",
       "            width=\"100%\"\n",
       "            height=\"400\"\n",
       "            src=\"p5-600.html\"\n",
       "            frameborder=\"0\"\n",
       "            allowfullscreen\n",
       "        ></iframe>\n",
       "        "
      ],
      "text/plain": [
       "<IPython.lib.display.IFrame at 0x104eacc88>"
      ]
     },
     "execution_count": 606,
     "metadata": {},
     "output_type": "execute_result"
    }
   ],
   "source": [
    "%%p5        // 2.4 funcion de mapa \n",
    "\n",
    "var col = 0;\n",
    "\n",
    "function setup() {\n",
    "    createCanvas (600, 400);\n",
    "\n",
    "}\n",
    "\n",
    "\n",
    "function draw(){\n",
    "    // color de fondo\n",
    "    col = mouseX/2;\n",
    "    background(col);\n",
    "    //elipse\n",
    "    fill(250, 118, 222);\n",
    "    ellipse(mouseX, 200, 64, 64);\n",
    "}"
   ]
  },
  {
   "cell_type": "code",
   "execution_count": 609,
   "metadata": {
    "scrolled": true
   },
   "outputs": [
    {
     "data": {
      "text/html": [
       "\n",
       "        <iframe\n",
       "            width=\"100%\"\n",
       "            height=\"400\"\n",
       "            src=\"p5-603.html\"\n",
       "            frameborder=\"0\"\n",
       "            allowfullscreen\n",
       "        ></iframe>\n",
       "        "
      ],
      "text/plain": [
       "<IPython.lib.display.IFrame at 0x104eaccf8>"
      ]
     },
     "execution_count": 609,
     "metadata": {},
     "output_type": "execute_result"
    }
   ],
   "source": [
    "%%p5        // 2.4 funcion de mapa \n",
    "\n",
    "var r = 0;\n",
    "var b = 255;\n",
    "\n",
    "function setup() {\n",
    "    createCanvas (600, 400);\n",
    "\n",
    "}\n",
    "\n",
    "\n",
    "function draw(){\n",
    "    // color de fondo\n",
    "    r = map(mouseX, 0, 600, 0, 255) ;\n",
    "    b = map(mouseX, 0, 600, 0, 255) ;\n",
    "    background(r, 0, b);\n",
    "    //elipse\n",
    "    fill(250, 118, 222);\n",
    "    ellipse(mouseX, 200, 64, 64);\n",
    "}"
   ]
  },
  {
   "cell_type": "code",
   "execution_count": 607,
   "metadata": {},
   "outputs": [
    {
     "data": {
      "text/html": [
       "\n",
       "        <iframe\n",
       "            width=\"100%\"\n",
       "            height=\"400\"\n",
       "            src=\"p5-601.html\"\n",
       "            frameborder=\"0\"\n",
       "            allowfullscreen\n",
       "        ></iframe>\n",
       "        "
      ],
      "text/plain": [
       "<IPython.lib.display.IFrame at 0x104eacda0>"
      ]
     },
     "execution_count": 607,
     "metadata": {},
     "output_type": "execute_result"
    }
   ],
   "source": [
    "%%p5             //2.5 funcion aleatoria\n",
    "\n",
    "var spot ={\n",
    "    x: 100,\n",
    "    y: 50\n",
    "};\n",
    "\n",
    "var col = {\n",
    "    r: 255,\n",
    "    g: 0,\n",
    "    b: 0\n",
    "};\n",
    "\n",
    "function setup(){\n",
    "    createCanvas(600, 400);\n",
    "    background(0);\n",
    "}\n",
    "\n",
    "function draw() {\n",
    "    col.r = random(100, 255);\n",
    "    col.g = 0;\n",
    "    col.b = random(100, 190);\n",
    "    spot.x = random(0, width);\n",
    "    spot.y = random(0, height);\n",
    "    fill(col.r, col.g, col.b);\n",
    "    ellipse(spot.x, spot.y, 100, 100,  24, 24);\n",
    "}"
   ]
  },
  {
   "cell_type": "code",
   "execution_count": 613,
   "metadata": {},
   "outputs": [
    {
     "data": {
      "text/html": [
       "\n",
       "        <iframe\n",
       "            width=\"100%\"\n",
       "            height=\"400\"\n",
       "            src=\"p5-607.html\"\n",
       "            frameborder=\"0\"\n",
       "            allowfullscreen\n",
       "        ></iframe>\n",
       "        "
      ],
      "text/plain": [
       "<IPython.lib.display.IFrame at 0x104eb6208>"
      ]
     },
     "execution_count": 613,
     "metadata": {},
     "output_type": "execute_result"
    }
   ],
   "source": [
    "%%p5              //Introducción a los enunciados condicionales\n",
    "\n",
    "function setup() {\n",
    "    createCanvas(600,400);\n",
    "    \n",
    "}\n",
    "\n",
    "function draw(){\n",
    "    background(0);\n",
    "    \n",
    "    stroke(255);\n",
    "    strokeWeight(4);\n",
    "    noFill();\n",
    "    \n",
    "    if(mouseX > 300){\n",
    "        fill(255, 0, 200);\n",
    "    }\n",
    "    ellipse(300, 200, 100, 100);\n",
    "}"
   ]
  },
  {
   "cell_type": "code",
   "execution_count": null,
   "metadata": {},
   "outputs": [],
   "source": []
  },
  {
   "cell_type": "code",
   "execution_count": 618,
   "metadata": {},
   "outputs": [
    {
     "data": {
      "text/html": [
       "\n",
       "        <iframe\n",
       "            width=\"100%\"\n",
       "            height=\"400\"\n",
       "            src=\"p5-612.html\"\n",
       "            frameborder=\"0\"\n",
       "            allowfullscreen\n",
       "        ></iframe>\n",
       "        "
      ],
      "text/plain": [
       "<IPython.lib.display.IFrame at 0x104eac438>"
      ]
     },
     "execution_count": 618,
     "metadata": {},
     "output_type": "execute_result"
    }
   ],
   "source": [
    "%%p5        //3.2 el circulo que rebota\n",
    "\n",
    "var x = 0;\n",
    "function setup() {\n",
    "    createCanvas(600, 400);\n",
    "    \n",
    "}\n",
    "\n",
    "function draw() {\n",
    "    background(0);\n",
    "    stroke(255);\n",
    "    strokeWeight(4);\n",
    "    noFill();\n",
    "    ellipse(x, 200, 100, 100);\n",
    "    \n",
    "    x = x + 3;\n",
    "    \n",
    "}"
   ]
  },
  {
   "cell_type": "code",
   "execution_count": 619,
   "metadata": {},
   "outputs": [
    {
     "data": {
      "text/html": [
       "\n",
       "        <iframe\n",
       "            width=\"100%\"\n",
       "            height=\"400\"\n",
       "            src=\"p5-613.html\"\n",
       "            frameborder=\"0\"\n",
       "            allowfullscreen\n",
       "        ></iframe>\n",
       "        "
      ],
      "text/plain": [
       "<IPython.lib.display.IFrame at 0x104eb65c0>"
      ]
     },
     "execution_count": 619,
     "metadata": {},
     "output_type": "execute_result"
    }
   ],
   "source": [
    "%%p5           //3.2 el circulo que rebota\n",
    "\n",
    "var x = 0;\n",
    "var speed = 3;\n",
    "\n",
    "\n",
    "function setup(){\n",
    "    createCanvas(600, 400);\n",
    "}\n",
    "\n",
    "function draw() {\n",
    "    background(0);\n",
    "    stroke(255);\n",
    "    strokeWeight(4);\n",
    "    noFill();\n",
    "    ellipse(x, 200, 100, 100);\n",
    "    \n",
    "    if(x > width || x < 0) {\n",
    "        speed = speed * -1;\n",
    "        \n",
    "    }\n",
    "    x = x + speed;\n",
    "}"
   ]
  },
  {
   "cell_type": "code",
   "execution_count": 622,
   "metadata": {},
   "outputs": [
    {
     "data": {
      "text/html": [
       "\n",
       "        <iframe\n",
       "            width=\"100%\"\n",
       "            height=\"400\"\n",
       "            src=\"p5-616.html\"\n",
       "            frameborder=\"0\"\n",
       "            allowfullscreen\n",
       "        ></iframe>\n",
       "        "
      ],
      "text/plain": [
       "<IPython.lib.display.IFrame at 0x104eace48>"
      ]
     },
     "execution_count": 622,
     "metadata": {},
     "output_type": "execute_result"
    }
   ],
   "source": [
    "%%p5               //3.3  aparecen juegos gemotricos al pasar el mouse de lado izquierdo a derecho\n",
    "\n",
    "\n",
    "function setup() {\n",
    "    createCanvas(600, 400);\n",
    "}\n",
    "\n",
    "function draw() {\n",
    "    background(0)\n",
    "    stroke(255);\n",
    "    strokeWeight(4);\n",
    "    noFill();\n",
    "    if (mouseX > 250) {\n",
    "        ellipse(300, 200, 100, 100);\n",
    "    } else if (mouseX > 150) {\n",
    "        rect(300, 200, 100, 100);\n",
    "    } else if (mouseX > 50) {\n",
    "        line(0, 0, width, height);\n",
    "    } else {\n",
    "        point(300, 200);\n",
    "    }\n",
    "    \n",
    "   \n",
    "    \n",
    "}"
   ]
  },
  {
   "cell_type": "code",
   "execution_count": 623,
   "metadata": {},
   "outputs": [
    {
     "data": {
      "text/html": [
       "\n",
       "        <iframe\n",
       "            width=\"100%\"\n",
       "            height=\"400\"\n",
       "            src=\"p5-617.html\"\n",
       "            frameborder=\"0\"\n",
       "            allowfullscreen\n",
       "        ></iframe>\n",
       "        "
      ],
      "text/plain": [
       "<IPython.lib.display.IFrame at 0x104eb6898>"
      ]
     },
     "execution_count": 623,
     "metadata": {},
     "output_type": "execute_result"
    }
   ],
   "source": [
    "%%p5             //3.4 variables bololean\n",
    "\n",
    "var on = true;\n",
    "\n",
    "function setup() {\n",
    "    createCanvas(600, 400);\n",
    "    \n",
    "}\n",
    "\n",
    "function draw() {\n",
    "    if (on) {\n",
    "        background(0, 255, 0);\n",
    "    } else {\n",
    "        background(0)\n",
    "    }\n",
    "    stroke(255);\n",
    "    strokeWeight(4);\n",
    "    noFill();\n",
    "    rectMode(CENTER);\n",
    "    rect(300, 200, 100, 100);\n",
    "}\n",
    "\n",
    "function mousePressed() {\n",
    "    \n",
    "}"
   ]
  },
  {
   "cell_type": "code",
   "execution_count": 634,
   "metadata": {
    "scrolled": true
   },
   "outputs": [
    {
     "data": {
      "text/html": [
       "\n",
       "        <iframe\n",
       "            width=\"100%\"\n",
       "            height=\"400\"\n",
       "            src=\"p5-627.html\"\n",
       "            frameborder=\"0\"\n",
       "            allowfullscreen\n",
       "        ></iframe>\n",
       "        "
      ],
      "text/plain": [
       "<IPython.lib.display.IFrame at 0x104ec32e8>"
      ]
     },
     "execution_count": 634,
     "metadata": {},
     "output_type": "execute_result"
    }
   ],
   "source": [
    "%%p5            //4.1 mientra y para bucle\n",
    "\n",
    "function setup(){\n",
    "    createCanvas(600, 400);\n",
    "    \n",
    "}\n",
    "\n",
    "function draw(){\n",
    "    background(0);\n",
    "    strokeWeight(4);\n",
    "    stroke(255);\n",
    "    \n",
    "    var x = 0;\n",
    "    while (x <= width) {\n",
    "        fill(0, 200, 255);\n",
    "        ellipse(x, 100, 25, 25);\n",
    "        x = x + 50;\n",
    "    }\n",
    "    \n",
    "    for (var x = 0; x <= width; x = x + 50) {\n",
    "        fill(255, 0, 200);\n",
    "        ellipse(x, 300, 25, 25);\n",
    "    }\n",
    "\n",
    "}"
   ]
  },
  {
   "cell_type": "code",
   "execution_count": null,
   "metadata": {},
   "outputs": [],
   "source": []
  },
  {
   "cell_type": "code",
   "execution_count": 631,
   "metadata": {},
   "outputs": [
    {
     "data": {
      "text/html": [
       "\n",
       "        <iframe\n",
       "            width=\"100%\"\n",
       "            height=\"400\"\n",
       "            src=\"p5-625.html\"\n",
       "            frameborder=\"0\"\n",
       "            allowfullscreen\n",
       "        ></iframe>\n",
       "        "
      ],
      "text/plain": [
       "<IPython.lib.display.IFrame at 0x104eb6da0>"
      ]
     },
     "execution_count": 631,
     "metadata": {},
     "output_type": "execute_result"
    }
   ],
   "source": [
    "%%p5          // 4.2 anadidos bucles\n",
    "\n",
    "var offset = 0;\n",
    "\n",
    "function setup() {\n",
    "    createCanvas(600, 400);\n",
    "}\n",
    "\n",
    "function draw() {\n",
    "    background(0);\n",
    "    strokeWeight(4);\n",
    "    stroke(255);\n",
    "    \n",
    "    for (var x = 0; x <= width; x += 50) {\n",
    "        fill(random(255), 0, random(255));\n",
    "        ellipse(x + offset, 200, 25, 25);\n",
    "        \n",
    "    }\n",
    "    offset = offset +1;\n",
    "}"
   ]
  },
  {
   "cell_type": "code",
   "execution_count": 630,
   "metadata": {},
   "outputs": [
    {
     "data": {
      "text/html": [
       "\n",
       "        <iframe\n",
       "            width=\"100%\"\n",
       "            height=\"400\"\n",
       "            src=\"p5-624.html\"\n",
       "            frameborder=\"0\"\n",
       "            allowfullscreen\n",
       "        ></iframe>\n",
       "        "
      ],
      "text/plain": [
       "<IPython.lib.display.IFrame at 0x104eb65f8>"
      ]
     },
     "execution_count": 630,
     "metadata": {},
     "output_type": "execute_result"
    }
   ],
   "source": [
    "%%p5      // 4.2 anadidos bucles\n",
    "\n",
    "function setup(){\n",
    "    createCanvas(600, 400);\n",
    "}\n",
    "\n",
    "function draw() {\n",
    "    background(0);\n",
    "    strokeWeight(4);\n",
    "    stroke(255);\n",
    "    \n",
    "    for (var x = 0; x <= width; x += 50) {\n",
    "        fill(random(255), 0, random(255));\n",
    "        ellipse(x, 200, 25, 25);\n",
    "    }\n",
    "    for (var y = 0; y <= height; y += 50) {\n",
    "        fill(random(255), 0, random(255));\n",
    "        ellipse(200, y, 25, 25);\n",
    "    }\n",
    "}"
   ]
  },
  {
   "cell_type": "code",
   "execution_count": null,
   "metadata": {},
   "outputs": [],
   "source": []
  },
  {
   "cell_type": "code",
   "execution_count": 633,
   "metadata": {},
   "outputs": [
    {
     "data": {
      "text/html": [
       "\n",
       "        <iframe\n",
       "            width=\"100%\"\n",
       "            height=\"400\"\n",
       "            src=\"p5-626.html\"\n",
       "            frameborder=\"0\"\n",
       "            allowfullscreen\n",
       "        ></iframe>\n",
       "        "
      ],
      "text/plain": [
       "<IPython.lib.display.IFrame at 0x104eb6ef0>"
      ]
     },
     "execution_count": 633,
     "metadata": {},
     "output_type": "execute_result"
    }
   ],
   "source": [
    "\n",
    "%%p5\n",
    "\n",
    "function setup(){\n",
    "    createCanvas(600, 400);\n",
    "}\n",
    "\n",
    "function draw() {\n",
    "    background(0);\n",
    "    strokeWeight(4);\n",
    "    stroke(255);\n",
    "    \n",
    "    for (var x = 0; x <= width; x += 50) {\n",
    "        for (var y = 0; y <= height; y += 50){\n",
    "            fill(random(255), 0, random(255));\n",
    "            ellipse(x, y, 25, 25);\n",
    "        }\n",
    "        \n",
    "        }\n",
    "    }"
   ]
  },
  {
   "cell_type": "code",
   "execution_count": null,
   "metadata": {},
   "outputs": [],
   "source": []
  },
  {
   "cell_type": "code",
   "execution_count": 545,
   "metadata": {},
   "outputs": [
    {
     "data": {
      "text/html": [
       "\n",
       "        <iframe\n",
       "            width=\"100%\"\n",
       "            height=\"400\"\n",
       "            src=\"p5-541.html\"\n",
       "            frameborder=\"0\"\n",
       "            allowfullscreen\n",
       "        ></iframe>\n",
       "        "
      ],
      "text/plain": [
       "<IPython.lib.display.IFrame at 0x104e815c0>"
      ]
     },
     "execution_count": 545,
     "metadata": {},
     "output_type": "execute_result"
    }
   ],
   "source": [
    "%%p5    // 4.2 anadidos bucles\n",
    "\n",
    "\n",
    "function setup(){\n",
    "    createCanvas(600, 400);\n",
    "}\n",
    "\n",
    "function draw() {\n",
    "    background(0);\n",
    "    strokeWeight(4);\n",
    "    stroke(255);\n",
    "    \n",
    "    for (var x = 0; x <= mouseX; x += 50) {\n",
    "        for (var y = 0; y <= height; y += 50){\n",
    "            fill(random(255), 0, random(255));\n",
    "            ellipse(x, y, 25, 25);\n",
    "        }\n",
    "        \n",
    "        }\n",
    "    }"
   ]
  },
  {
   "cell_type": "code",
   "execution_count": 635,
   "metadata": {},
   "outputs": [
    {
     "data": {
      "text/html": [
       "\n",
       "        <iframe\n",
       "            width=\"100%\"\n",
       "            height=\"400\"\n",
       "            src=\"p5-628.html\"\n",
       "            frameborder=\"0\"\n",
       "            allowfullscreen\n",
       "        ></iframe>\n",
       "        "
      ],
      "text/plain": [
       "<IPython.lib.display.IFrame at 0x104ec34a8>"
      ]
     },
     "execution_count": 635,
     "metadata": {},
     "output_type": "execute_result"
    }
   ],
   "source": [
    "%%p5       // 5.1 Funciones Basicas\n",
    "\n",
    "var ball = {\n",
    "    x: 300,\n",
    "    y: 200,\n",
    "    xspeed: 4,\n",
    "    yspeed: -3\n",
    "}\n",
    "function setup(){\n",
    "    createCanvas(600, 400);\n",
    "}\n",
    "\n",
    "function draw(){\n",
    "    background(0);\n",
    "    stroke(255);\n",
    "    strokeWeight(4);\n",
    "    noFill();\n",
    "    ellipse(ball.x, ball.y, 24, 24);\n",
    "    \n",
    "    if (ball.x > width|| ball.x < 0) {\n",
    "        ball.xspeed = ball.xspeed * -1;\n",
    "    }\n",
    "    \n",
    "    if (ball.x > height|| ball.x < 0) {\n",
    "        ball.yspeed = ball.yspeed * -1;\n",
    "    }\n",
    "    \n",
    "    ball.x = ball.x + ball.xspeed;\n",
    "    ball.y = ball.y + ball.yspeed;\n",
    "}"
   ]
  },
  {
   "cell_type": "code",
   "execution_count": 560,
   "metadata": {},
   "outputs": [
    {
     "data": {
      "text/html": [
       "\n",
       "        <iframe\n",
       "            width=\"100%\"\n",
       "            height=\"400\"\n",
       "            src=\"p5-556.html\"\n",
       "            frameborder=\"0\"\n",
       "            allowfullscreen\n",
       "        ></iframe>\n",
       "        "
      ],
      "text/plain": [
       "<IPython.lib.display.IFrame at 0x104e8a080>"
      ]
     },
     "execution_count": 560,
     "metadata": {},
     "output_type": "execute_result"
    }
   ],
   "source": [
    "%%p5          // funciones basicas \n",
    "\n",
    "var ball = {\n",
    "    x: 300,\n",
    "    y: 200,\n",
    "    xspeed: 4,\n",
    "    yspeed: -3\n",
    "}\n",
    "function setup(){\n",
    "    createCanvas(600, 400);\n",
    "}\n",
    "\n",
    "function draw(){\n",
    "    background(0);\n",
    "    move();\n",
    "    bounce();\n",
    "    display();\n",
    "}\n",
    "\n",
    "function move(){\n",
    "     ball.x = ball.x + ball.xspeed;\n",
    "     ball.y = ball.y + ball.yspeed;\n",
    "}\n",
    "    \n",
    "function bounce(){\n",
    "    if (ball.x > width || ball.x < 0) {\n",
    "        ball.xspeed = ball.xspeed * -1;\n",
    "}  \n",
    "    if (ball.y > height || ball.y < 0) {\n",
    "        ball.yspeed = ball.yspeed * -1;\n",
    "    }\n",
    "}\n",
    "\n",
    "function display() {\n",
    "    stroke(255);\n",
    "    strokeWeight(4);\n",
    "    fill(255,0,200);\n",
    "    ellipse(ball.x, ball.y, 24, 24);\n",
    "}"
   ]
  },
  {
   "cell_type": "code",
   "execution_count": 640,
   "metadata": {},
   "outputs": [
    {
     "data": {
      "text/html": [
       "\n",
       "        <iframe\n",
       "            width=\"100%\"\n",
       "            height=\"400\"\n",
       "            src=\"p5-633.html\"\n",
       "            frameborder=\"0\"\n",
       "            allowfullscreen\n",
       "        ></iframe>\n",
       "        "
      ],
      "text/plain": [
       "<IPython.lib.display.IFrame at 0x104ec3320>"
      ]
     },
     "execution_count": 640,
     "metadata": {},
     "output_type": "execute_result"
    }
   ],
   "source": [
    "%%p5              //5.2 funciones dde argumentos y parametros\n",
    "\n",
    "function setup(){\n",
    "    createCanvas(600, 400);\n",
    "}\n",
    "\n",
    "function draw(){\n",
    "    background(0);\n",
    "    \n",
    "    lollipop(100, 100, 50);\n",
    "    lollipop(300, 200, 150);\n",
    "}\n",
    "function lollipop(x, y, diameter) {   \n",
    "    fill(0, 200, 255);\n",
    "    rect(x-10, y, 20, 150);\n",
    "    \n",
    "    fill(255, 0, 200);\n",
    "    ellipse(x, y, diameter, diameter);\n",
    "}"
   ]
  },
  {
   "cell_type": "code",
   "execution_count": 641,
   "metadata": {},
   "outputs": [
    {
     "data": {
      "text/html": [
       "\n",
       "        <iframe\n",
       "            width=\"100%\"\n",
       "            height=\"400\"\n",
       "            src=\"p5-634.html\"\n",
       "            frameborder=\"0\"\n",
       "            allowfullscreen\n",
       "        ></iframe>\n",
       "        "
      ],
      "text/plain": [
       "<IPython.lib.display.IFrame at 0x104ec38d0>"
      ]
     },
     "execution_count": 641,
     "metadata": {},
     "output_type": "execute_result"
    }
   ],
   "source": [
    "\n",
    "%%p5             //6.1: Funciones dentro de los objetos\n",
    "\n",
    "var bubble = {\n",
    "    x: 300,\n",
    "    y: 200,\n",
    "    display: function() {\n",
    "        stroke(255);\n",
    "        strokeWeight(4);\n",
    "        noFill();\n",
    "        ellipse(this.x, this.y, 24, 24);\n",
    "         \n",
    "    },\n",
    "    move: function() {\n",
    "        this.x = this.x + random(-1, 1);\n",
    "        this.y = this.y + random(-1, 1);\n",
    "    }\n",
    "    \n",
    "}\n",
    "\n",
    "function setup() {\n",
    "    createCanvas(600, 400);\n",
    "}\n",
    "\n",
    "function draw() {\n",
    "    background(0);\n",
    "    bubble.move();\n",
    "    bubble.display();\n",
    "\n",
    "}"
   ]
  },
  {
   "cell_type": "code",
   "execution_count": 658,
   "metadata": {},
   "outputs": [
    {
     "data": {
      "text/html": [
       "\n",
       "        <iframe\n",
       "            width=\"100%\"\n",
       "            height=\"400\"\n",
       "            src=\"p5-651.html\"\n",
       "            frameborder=\"0\"\n",
       "            allowfullscreen\n",
       "        ></iframe>\n",
       "        "
      ],
      "text/plain": [
       "<IPython.lib.display.IFrame at 0x104e975c0>"
      ]
     },
     "execution_count": 658,
     "metadata": {},
     "output_type": "execute_result"
    }
   ],
   "source": [
    "%%p5        //6.2 :clases en JavaScript con ES6\n",
    "\n",
    "let bubble1;\n",
    "let bubble2;\n",
    "\n",
    "function setup() {\n",
    "    createCanvas(600, 400);\n",
    "    bubble1 = new Bubble();\n",
    "    bubble2 = new Bubble();\n",
    "    \n",
    "}\n",
    "\n",
    "function draw() {\n",
    "    background(0);\n",
    "    bubble1.move();\n",
    "    bubble1.show();\n",
    "    bubble2.move();\n",
    "    bubble2.show();\n",
    "\n",
    "}\n",
    "\n",
    "class Bubble {\n",
    "    constructor() {\n",
    "        this.x = 200;\n",
    "        this.y = 150;\n",
    "    }\n",
    "\n",
    "    \n",
    "move() {\n",
    "     this.x = this.x + random(-5, 5);\n",
    "     this.y = this.y + random(-5, 5);\n",
    " }   \n",
    "\n",
    "show() {\n",
    "    stroke(255);\n",
    "     strokeWeight(4);\n",
    "     noFill();\n",
    "    ellipse(this.x, this.y, 24, 24)\n",
    "}    \n",
    "        \n",
    "}    \n",
    "  \n",
    "    \n"
   ]
  },
  {
   "cell_type": "code",
   "execution_count": 667,
   "metadata": {},
   "outputs": [
    {
     "data": {
      "text/html": [
       "\n",
       "        <iframe\n",
       "            width=\"100%\"\n",
       "            height=\"400\"\n",
       "            src=\"p5-660.html\"\n",
       "            frameborder=\"0\"\n",
       "            allowfullscreen\n",
       "        ></iframe>\n",
       "        "
      ],
      "text/plain": [
       "<IPython.lib.display.IFrame at 0x104ec31d0>"
      ]
     },
     "execution_count": 667,
     "metadata": {},
     "output_type": "execute_result"
    }
   ],
   "source": [
    "%%p5        //6.3:Argumentos constructor con clases en JavaScript \n",
    "\n",
    "let bubble1;\n",
    "let bubble2;\n",
    "\n",
    "function setup() {\n",
    "    createCanvas(600, 400);\n",
    "    bubble1 = new Bubble(200, 200, 40);\n",
    "    bubble2 = new Bubble(400, 200, 20);\n",
    "    \n",
    "}\n",
    "\n",
    "function draw() {\n",
    "    background(0);\n",
    "    bubble1.move();\n",
    "    bubble1.show();\n",
    "    bubble2.move();\n",
    "    bubble2.show();\n",
    "\n",
    "}\n",
    "\n",
    "class Bubble {\n",
    "    constructor(x, y, r) {\n",
    "        this.x = x;\n",
    "        this.y = y;\n",
    "        this.r = r;\n",
    "    }\n",
    "\n",
    "    \n",
    "move() {\n",
    "     this.x = this.x + random(-5, 5);\n",
    "     this.y = this.y + random(-5, 5);\n",
    " }   \n",
    "\n",
    "show() {\n",
    "    stroke(255);\n",
    "     strokeWeight(4);\n",
    "     noFill();\n",
    "    ellipse(this.x, this.y, this.r *2);\n",
    "}    \n",
    "        \n",
    "\n",
    "}\n",
    "\n",
    "    "
   ]
  },
  {
   "cell_type": "code",
   "execution_count": 675,
   "metadata": {
    "scrolled": true
   },
   "outputs": [
    {
     "data": {
      "text/html": [
       "\n",
       "        <iframe\n",
       "            width=\"100%\"\n",
       "            height=\"400\"\n",
       "            src=\"p5-668.html\"\n",
       "            frameborder=\"0\"\n",
       "            allowfullscreen\n",
       "        ></iframe>\n",
       "        "
      ],
      "text/plain": [
       "<IPython.lib.display.IFrame at 0x104ecc0f0>"
      ]
     },
     "execution_count": 675,
     "metadata": {},
     "output_type": "execute_result"
    }
   ],
   "source": [
    "%%p5               //7.1: Qué es una matriz? - Tutorial p5.js\n",
    "\n",
    "var words = [\"rainbow\", \"heart\", \"purple\", \"friendship\",\"love\", \"five\"];\n",
    "\n",
    "\n",
    "var index = 0;\n",
    "\n",
    "function setup() {\n",
    "    createCanvas(600, 400);   \n",
    "}\n",
    "\n",
    "function draw() {\n",
    "    background(0);\n",
    "    \n",
    "    fill(255);\n",
    "    textSize(32);\n",
    "    text(words[index], 12, 200);\n",
    "}\n",
    "\n",
    "function mousePressed() {\n",
    "    index = index +1;\n",
    "    \n",
    "    if (index == words.length) {\n",
    "        index = 0;\n",
    "    }\n",
    "}"
   ]
  },
  {
   "cell_type": "code",
   "execution_count": 680,
   "metadata": {},
   "outputs": [
    {
     "data": {
      "text/html": [
       "\n",
       "        <iframe\n",
       "            width=\"100%\"\n",
       "            height=\"400\"\n",
       "            src=\"p5-673.html\"\n",
       "            frameborder=\"0\"\n",
       "            allowfullscreen\n",
       "        ></iframe>\n",
       "        "
      ],
      "text/plain": [
       "<IPython.lib.display.IFrame at 0x104ecc2b0>"
      ]
     },
     "execution_count": 680,
     "metadata": {},
     "output_type": "execute_result"
    }
   ],
   "source": [
    "%%p5       //7.2 : matrices y bucles \n",
    "\n",
    "var nums = [100, 25, 46, 72];\n",
    "\n",
    "var num = 23;\n",
    "\n",
    "function setup() {\n",
    "    createCanvas(600, 400);\n",
    "}\n",
    "\n",
    "function draw() {\n",
    "    background(0);\n",
    "    \n",
    "    ellipse(100, 200, num, num);\n",
    "    \n",
    "    ellipse(200, 200, nums[2], nums[2]);\n",
    "}"
   ]
  },
  {
   "cell_type": "code",
   "execution_count": 687,
   "metadata": {},
   "outputs": [
    {
     "data": {
      "text/html": [
       "\n",
       "        <iframe\n",
       "            width=\"100%\"\n",
       "            height=\"400\"\n",
       "            src=\"p5-680.html\"\n",
       "            frameborder=\"0\"\n",
       "            allowfullscreen\n",
       "        ></iframe>\n",
       "        "
      ],
      "text/plain": [
       "<IPython.lib.display.IFrame at 0x104ec3278>"
      ]
     },
     "execution_count": 687,
     "metadata": {},
     "output_type": "execute_result"
    }
   ],
   "source": [
    "%%p5       //7.2 : matrices y bucles \n",
    "\n",
    "var nums = [100, 25, 46, 72];\n",
    "\n",
    "\n",
    "function setup() {\n",
    "    createCanvas(600, 400);\n",
    "}\n",
    "\n",
    "function draw() {\n",
    "    background(0);\n",
    "\n",
    "    ellipse(100, 200, nums[0], nums[0]);\n",
    "    ellipse(200, 200, nums[1], nums[1]);\n",
    "    ellipse(300, 200, nums[2], nums[2]);\n",
    "    ellipse(400, 200, nums[3], nums[3]);\n",
    "    \n",
    "}"
   ]
  },
  {
   "cell_type": "code",
   "execution_count": 11,
   "metadata": {},
   "outputs": [
    {
     "data": {
      "text/plain": [
       "'/Users/marco/practicas/d3-jupyter-tutorial'"
      ]
     },
     "execution_count": 11,
     "metadata": {},
     "output_type": "execute_result"
    }
   ],
   "source": [
    "pwd"
   ]
  },
  {
   "cell_type": "code",
   "execution_count": 688,
   "metadata": {},
   "outputs": [
    {
     "data": {
      "text/html": [
       "\n",
       "        <iframe\n",
       "            width=\"100%\"\n",
       "            height=\"400\"\n",
       "            src=\"p5-681.html\"\n",
       "            frameborder=\"0\"\n",
       "            allowfullscreen\n",
       "        ></iframe>\n",
       "        "
      ],
      "text/plain": [
       "<IPython.lib.display.IFrame at 0x104ecccf8>"
      ]
     },
     "execution_count": 688,
     "metadata": {},
     "output_type": "execute_result"
    }
   ],
   "source": [
    "%%p5       //7.2 : matrices y bucles \n",
    "\n",
    "var nums = [100, 25, 46, 72];\n",
    "\n",
    "\n",
    "function setup() {\n",
    "    createCanvas(600, 400);\n",
    "}\n",
    "\n",
    "function draw() {\n",
    "    background(0);\n",
    "    \n",
    "    for (var i = 0; i < 4; i++) {\n",
    "        stroke(255);\n",
    "        noFill();\n",
    "        ellipse(100, 200, nums[i], nums[i]);\n",
    "    }\n",
    "\n",
    "   // ellipse(100, 200, nums[0], nums[0]);\n",
    "  // ellipse(200, 200, nums[1], nums[1]);\n",
    "   // ellipse(300, 200, nums[2], nums[2]);\n",
    "    //ellipse(400, 200, nums[3], nums[3]);\n",
    "    \n",
    "}"
   ]
  },
  {
   "cell_type": "code",
   "execution_count": 693,
   "metadata": {},
   "outputs": [
    {
     "data": {
      "text/html": [
       "\n",
       "        <iframe\n",
       "            width=\"100%\"\n",
       "            height=\"400\"\n",
       "            src=\"p5-686.html\"\n",
       "            frameborder=\"0\"\n",
       "            allowfullscreen\n",
       "        ></iframe>\n",
       "        "
      ],
      "text/plain": [
       "<IPython.lib.display.IFrame at 0x104edb080>"
      ]
     },
     "execution_count": 693,
     "metadata": {},
     "output_type": "execute_result"
    }
   ],
   "source": [
    "%%p5       //7.2 : matrices y bucles \n",
    "\n",
    "var nums = [100, 25, 46, 72];\n",
    "\n",
    "\n",
    "function setup() {\n",
    "    createCanvas(600, 400);\n",
    "}\n",
    "\n",
    "function draw() {\n",
    "    background(0);\n",
    "    \n",
    "    for (var i = 0; i < 4; i++) {\n",
    "        stroke(255);\n",
    "        fill(51);\n",
    "        ellipse(i * 100 + 100, 200, nums[i], nums[i]);\n",
    "    }\n",
    "\n",
    "   // ellipse(100, 200, nums[0], nums[0]);\n",
    "  // ellipse(200, 200, nums[1], nums[1]);\n",
    "   // ellipse(300, 200, nums[2], nums[2]);\n",
    "    //ellipse(400, 200, nums[3], nums[3]);\n",
    "    \n",
    "}"
   ]
  },
  {
   "cell_type": "code",
   "execution_count": 699,
   "metadata": {},
   "outputs": [
    {
     "data": {
      "text/html": [
       "\n",
       "        <iframe\n",
       "            width=\"100%\"\n",
       "            height=\"400\"\n",
       "            src=\"p5-692.html\"\n",
       "            frameborder=\"0\"\n",
       "            allowfullscreen\n",
       "        ></iframe>\n",
       "        "
      ],
      "text/plain": [
       "<IPython.lib.display.IFrame at 0x104eccdd8>"
      ]
     },
     "execution_count": 699,
     "metadata": {},
     "output_type": "execute_result"
    }
   ],
   "source": [
    "%%p5     //7.3: matrices de objetos\n",
    "    \n",
    "var bubbles = [];\n",
    "    \n",
    "\n",
    "function setup() {\n",
    "    createCanvas(600, 400);\n",
    "    for (var i = 0; i < 400; i++) {\n",
    "    bubbles[i] = {\n",
    "        x: random(0, width),\n",
    "        y: random(0, height),\n",
    "        display: function() {\n",
    "        stroke(255);\n",
    "        noFill();\n",
    "        ellipse(this.x, this.y, 24, 24);\n",
    "    },\n",
    "    move: function() {\n",
    "        this.x = this.x + random(-1, 1);\n",
    "        this.y = this.y + random(-1, 1);\n",
    "    }\n",
    "    } \n",
    "}\n",
    "}\n",
    "function draw() {\n",
    "    background(0);\n",
    "    for (var i = 0; i < bubbles.length; i++){\n",
    "    bubbles[i].move();\n",
    "    bubbles[i].display();\n",
    "}\n",
    "}"
   ]
  },
  {
   "cell_type": "code",
   "execution_count": 20,
   "metadata": {},
   "outputs": [
    {
     "data": {
      "text/html": [
       "\n",
       "        <iframe\n",
       "            width=\"100%\"\n",
       "            height=\"400\"\n",
       "            src=\"p5-17.html\"\n",
       "            frameborder=\"0\"\n",
       "            allowfullscreen\n",
       "        ></iframe>\n",
       "        "
      ],
      "text/plain": [
       "<IPython.lib.display.IFrame at 0x104d6a828>"
      ]
     },
     "execution_count": 20,
     "metadata": {},
     "output_type": "execute_result"
    }
   ],
   "source": [
    "%%p5     //7.3: matrices de objetos\n",
    "    \n",
    "var bubbles = [];\n",
    "    \n",
    "\n",
    "function setup() {\n",
    "    createCanvas(600, 400);\n",
    "    for (var i = 0; i < 4000; i++) {\n",
    "    bubbles[i] = {\n",
    "        x: random(0, width),\n",
    "        y: random(0, height),\n",
    "        display: function() {\n",
    "        stroke(255);\n",
    "        noFill();\n",
    "        ellipse(this.x, this.y, 24, 24);\n",
    "    },\n",
    "    move: function() {\n",
    "        this.x = this.x + random(-1, 1);\n",
    "        this.y = this.y + random(-1, 1);\n",
    "    }\n",
    "    } \n",
    "}\n",
    "}\n",
    "function draw() {\n",
    "    background(0);\n",
    "    for (var i = 0; i < bubbles.length; i++){\n",
    "    bubbles[i].move();\n",
    "    bubbles[i].display();\n",
    "}\n",
    "}"
   ]
  },
  {
   "cell_type": "code",
   "execution_count": 23,
   "metadata": {},
   "outputs": [
    {
     "data": {
      "text/html": [
       "\n",
       "        <iframe\n",
       "            width=\"100%\"\n",
       "            height=\"400\"\n",
       "            src=\"p5-20.html\"\n",
       "            frameborder=\"0\"\n",
       "            allowfullscreen\n",
       "        ></iframe>\n",
       "        "
      ],
      "text/plain": [
       "<IPython.lib.display.IFrame at 0x104d5a3c8>"
      ]
     },
     "execution_count": 23,
     "metadata": {},
     "output_type": "execute_result"
    }
   ],
   "source": [
    "%%p5                 //7.4 interacion del mouse con objetos\n",
    "\n",
    "let bubbles = [];\n",
    "\n",
    "function setup() {\n",
    "    createCanvas(600, 400);\n",
    "    for (let i = 0; i < 5; i++) {\n",
    "    let x = random(width);\n",
    "    let y = random(height);\n",
    "    let r = random(10, 50);\n",
    "    let b = new Bubble(x, y, r);\n",
    "    bubbles.push(b);\n",
    "}\n",
    " }\n",
    "\n",
    "\n",
    "\n",
    "function mousePressed() {\n",
    "     for (let i = 0; i < bubbles.length; i++) {\n",
    "       bubble.clicked(mouseX, mouseY);\n",
    "          bubbles[i].move();\n",
    "        bubbles[i].show();\n",
    " }\n",
    "}\n",
    "\n",
    "function draw() {\n",
    "    background(0);\n",
    "    for (let i = 0; i < bubbles.length; i++) {\n",
    "        bubbles[i].clicked();\n",
    "        bubbles[i].show();\n",
    "    }\n",
    "}\n",
    "\n",
    "\n",
    "class Bubble {\n",
    "    constructor(x, y, r) {\n",
    "        this.x = x;\n",
    "        this.y = y;\n",
    "        this.r = r;\n",
    "        this.brightness = 0;\n",
    "    }\n",
    "    \n",
    "    \n",
    "    clicked(px, py) {\n",
    "        let d = dist(px, py, this.x, this.y);\n",
    "        if (d < this.r) {\n",
    "            this.brightness = 255;\n",
    "                                                       //console.log(\"CLICKED ON BUBBLE!\");//\n",
    "        }\n",
    "    }\n",
    "    \n",
    "    \n",
    "    move() {\n",
    "        this.x = this.x + random(-5, 5);\n",
    "        this.y = this.y + random(-5, 5);\n",
    "    }\n",
    "    show() {\n",
    "        stroke(255);\n",
    "        strokeWeight(4);\n",
    "        fill(this.brightness, 125);\n",
    "        ellipse(this.x, this.y, this.r * 2);\n",
    "    }\n",
    "}\n"
   ]
  },
  {
   "cell_type": "code",
   "execution_count": 27,
   "metadata": {},
   "outputs": [
    {
     "data": {
      "text/html": [
       "\n",
       "        <iframe\n",
       "            width=\"100%\"\n",
       "            height=\"400\"\n",
       "            src=\"p5-24.html\"\n",
       "            frameborder=\"0\"\n",
       "            allowfullscreen\n",
       "        ></iframe>\n",
       "        "
      ],
      "text/plain": [
       "<IPython.lib.display.IFrame at 0x104d5a710>"
      ]
     },
     "execution_count": 27,
     "metadata": {},
     "output_type": "execute_result"
    }
   ],
   "source": [
    "%%p5                 //7.5 removiendo objetos\n",
    "\n",
    "let bubbles = [];\n",
    "\n",
    "function setup() {\n",
    "    createCanvas(600, 400);\n",
    "    for (let i = 0; i < 5; i++) {\n",
    "    let x = random(width);\n",
    "    let y = random(height);\n",
    "    let r = random(10, 50);\n",
    "    let b = new Bubble(x, y, r);\n",
    "    bubbles.push(b);\n",
    "}\n",
    " }\n",
    "\n",
    "\n",
    "\n",
    "function mousePressed() {\n",
    "     for (let i = 0; i = bubbles.length - 1; i >= 0; i--) {\n",
    "       if (bubbles[i].contains(mouseX, mouseY)) {\n",
    "        bubbles.splice(i, 1);   \n",
    "       }\n",
    "    }\n",
    "}\n",
    "\n",
    "function draw() {\n",
    "    background(0);\n",
    "    for (let i = 0; i < bubbles.length; i++) {\n",
    "        if (bubbles[i].contains(mouseX, mouseY)){\n",
    "        bubbles[i].changeColor();\n",
    "    }\n",
    "        bubbles[i].clicked();\n",
    "        bubbles[i].show();\n",
    "    }\n",
    "}\n",
    "\n",
    "\n",
    "class Bubble {\n",
    "    constructor(x, y, r) {\n",
    "        this.x = x;\n",
    "        this.y = y;\n",
    "        this.r = r;\n",
    "        this.brightness = 0;\n",
    "    }\n",
    "    \n",
    "    \n",
    "    clicked(px, py) {\n",
    "        let d = dist(px, py, this.x, this.y);\n",
    "        if (d < this.r) {\n",
    "            this.brightness = 255;\n",
    "                                                       \n",
    "        }\n",
    "    }\n",
    "    \n",
    "    \n",
    "    move() {\n",
    "        this.x = this.x + random(-5, 5);\n",
    "        this.y = this.y + random(-5, 5);\n",
    "    }\n",
    "    show() {\n",
    "        stroke(255);\n",
    "        strokeWeight(4);\n",
    "        fill(this.brightness, 125);\n",
    "        ellipse(this.x, this.y, this.r * 2);\n",
    "    }\n",
    "}\n",
    "\n",
    "\n"
   ]
  },
  {
   "cell_type": "code",
   "execution_count": 36,
   "metadata": {},
   "outputs": [
    {
     "data": {
      "text/html": [
       "\n",
       "        <iframe\n",
       "            width=\"100%\"\n",
       "            height=\"400\"\n",
       "            src=\"p5-33.html\"\n",
       "            frameborder=\"0\"\n",
       "            allowfullscreen\n",
       "        ></iframe>\n",
       "        "
      ],
      "text/plain": [
       "<IPython.lib.display.IFrame at 0x104d7f0b8>"
      ]
     },
     "execution_count": 36,
     "metadata": {},
     "output_type": "execute_result"
    }
   ],
   "source": [
    "%%p5           //7.6 comunicacion de objetos\n",
    "\n",
    "let bubble1;\n",
    "let bubble2;\n",
    "\n",
    "function setup() {\n",
    "    createCanvas(600, 400);\n",
    "    bubble1 = new Bubble(200, 200);\n",
    "    bubble2 = new Bubble(300, 200);\n",
    "    \n",
    "    \n",
    "}\n",
    "\n",
    "function draw() {\n",
    "    background(0);\n",
    "    bubble1.show();\n",
    "    bubble2.show();\n",
    "}\n",
    "\n",
    " class Bubble {\n",
    "    constructor(x, y, r = 50) {\n",
    "        this.x = x;\n",
    "        this.y = y;\n",
    "        this.r = r;\n",
    "        this.brightness = 0;\n",
    "    \n",
    "}\n",
    "\n",
    "  changeColor(bright) {\n",
    "    this.brightness = bright;\n",
    "    \n",
    "}\n",
    "\n",
    "  contains(px, py) {\n",
    "    let d = dist(px, py, this.x, this.y);\n",
    "    if (d < this.r) {\n",
    "        return true;\n",
    "    } else {\n",
    "        return false;\n",
    "    }\n",
    "}\n",
    "\n",
    "  move() {\n",
    "    this.x = this.x + random(-2, 2);\n",
    "    this.y = this.y + random(-2, 2);\n",
    "    \n",
    "}\n",
    "\n",
    "  show() {\n",
    "    stroke(255);\n",
    "    strokeWeight(4);\n",
    "    fill(this.brightness, 125);\n",
    "    ellipse(this.x, this.y, this.r * 2);\n",
    "    \n",
    "}\n",
    "}\n"
   ]
  },
  {
   "cell_type": "code",
   "execution_count": 19,
   "metadata": {},
   "outputs": [
    {
     "data": {
      "text/html": [
       "\n",
       "        <iframe\n",
       "            width=\"100%\"\n",
       "            height=\"400\"\n",
       "            src=\"p5-16.html\"\n",
       "            frameborder=\"0\"\n",
       "            allowfullscreen\n",
       "        ></iframe>\n",
       "        "
      ],
      "text/plain": [
       "<IPython.lib.display.IFrame at 0x104d6a898>"
      ]
     },
     "execution_count": 19,
     "metadata": {},
     "output_type": "execute_result"
    }
   ],
   "source": [
    "%%p5 \n",
    "\n",
    "var bubbles = [];\n",
    "\n",
    "function setup() {\n",
    "    createCanvas(600, 400);\n",
    "    for (let i = 0; i < 5; i++)\n",
    "    let x = random(width);\n",
    "    let y = random(height);\n",
    "    let r = random(10, 50);\n",
    "    let b = new Bubble(x, y, r);\n",
    "    bubbles.push(b);\n",
    "            \n",
    "        }\n",
    "    \n",
    "function mousePressed() {\n",
    "    bubbles.push(new Bubble(mouseX, mouseY));\n",
    "       \n",
    "    } \n",
    "\n",
    "\n",
    "function draw() {\n",
    "    background(0);\n",
    "    for (var i = 0; i < bubbles.length; i++) {\n",
    "    bubbles[i].move();\n",
    "    bubbles[i].display();\n",
    "   }\n",
    "\n",
    "}\n",
    "\n",
    "function Bubble(x, y) {\n",
    "    this.x = random(0, width);\n",
    "    this.y = random(0, height);\n",
    "    \n",
    "    this.display = function() {\n",
    "        stroke(255);\n",
    "        noFill();\n",
    "        ellipse(this.x, this.y, 24, 24);\n",
    "        \n",
    "    }\n",
    "    \n",
    "    this move = function() {\n",
    "        this.x = this.x + random(-1, 1);\n",
    "        this.y = this.y + random(-1, 1); \n",
    "    }\n",
    "    \n",
    "}"
   ]
  },
  {
   "cell_type": "code",
   "execution_count": 716,
   "metadata": {},
   "outputs": [
    {
     "data": {
      "text/html": [
       "\n",
       "        <iframe\n",
       "            width=\"100%\"\n",
       "            height=\"400\"\n",
       "            src=\"p5-709.html\"\n",
       "            frameborder=\"0\"\n",
       "            allowfullscreen\n",
       "        ></iframe>\n",
       "        "
      ],
      "text/plain": [
       "<IPython.lib.display.IFrame at 0x104edbc88>"
      ]
     },
     "execution_count": 716,
     "metadata": {},
     "output_type": "execute_result"
    }
   ],
   "source": [
    "%%p5\n",
    "\n",
    "var bubbles = [];\n",
    "\n",
    "function setup() {\n",
    "    createCanvas(600, 400);\n",
    "    for (var i = 0; i < 10; i++) {\n",
    "    var x = random(width);\n",
    "    var y = random(height);\n",
    "    bubbles push(new Bubble(x, y));    \n",
    "    }\n",
    "}\n",
    "\n",
    "function draw() {\n",
    "    background(0);\n",
    "    for (var i = 0; i < bubbles.lenght; i++) {\n",
    "        bubble[i].move();\n",
    "        bubble[i].display();\n",
    "    }\n",
    "}"
   ]
  },
  {
   "cell_type": "code",
   "execution_count": 717,
   "metadata": {},
   "outputs": [
    {
     "data": {
      "text/html": [
       "\n",
       "        <iframe\n",
       "            width=\"100%\"\n",
       "            height=\"400\"\n",
       "            src=\"p5-710.html\"\n",
       "            frameborder=\"0\"\n",
       "            allowfullscreen\n",
       "        ></iframe>\n",
       "        "
      ],
      "text/plain": [
       "<IPython.lib.display.IFrame at 0x104edbfd0>"
      ]
     },
     "execution_count": 717,
     "metadata": {},
     "output_type": "execute_result"
    }
   ],
   "source": [
    "%%p5\n",
    "\n",
    "let Bubbles = [];\n",
    "\n",
    "\n",
    "let flower;\n",
    "\n",
    "function preload() {\n",
    "    flower = loadImage()\n",
    " }\n",
    "\n",
    "function setup() {\n",
    "    createCanvas(600, 400);\n",
    "    for (let i = 0; i < 10; i++) {\n",
    "        let x = random(width); \n",
    "        let y = random(height);\n",
    "    }\n",
    "}"
   ]
  },
  {
   "cell_type": "code",
   "execution_count": 730,
   "metadata": {},
   "outputs": [
    {
     "data": {
      "text/html": [
       "\n",
       "\n",
       "<html>\n",
       "  <head>\n",
       "    <script src=\"https://cdnjs.cloudflare.com/ajax/libs/p5.js/0.6.0/p5.min.js\"></script>\n",
       "    <script src=\"https://cdnjs.cloudflare.com/ajax/libs/p5.js/0.6.0/addons/p5.dom.min.js\"></script>\n",
       "    <script src=\"https://cdnjs.cloudflare.com/ajax/libs/p5.js/0.6.0/addons/p5.sound.min.js\"></script>\n",
       "    <link rel=\"stylesheet\" type=\"text/css\" href=\"style.css\">\n",
       "    <meta charset=\"utf-8\" />\n",
       "\n",
       "  </head>\n",
       "  <body>\n",
       "    \n",
       "    <h1> i am making video </h1>\n",
       "    <p> this is my essay abaout how i love to videos</p>\n",
       "    <script src=\"sketch.js\"></script>\n",
       "  </body>\n",
       "</html>\n",
       "\n",
       "\n"
      ],
      "text/plain": [
       "<IPython.core.display.HTML object>"
      ]
     },
     "metadata": {},
     "output_type": "display_data"
    }
   ],
   "source": [
    "%%html\n",
    "\n",
    "\n",
    "<html>\n",
    "  <head>\n",
    "    <script src=\"https://cdnjs.cloudflare.com/ajax/libs/p5.js/0.6.0/p5.min.js\"></script>\n",
    "    <script src=\"https://cdnjs.cloudflare.com/ajax/libs/p5.js/0.6.0/addons/p5.dom.min.js\"></script>\n",
    "    <script src=\"https://cdnjs.cloudflare.com/ajax/libs/p5.js/0.6.0/addons/p5.sound.min.js\"></script>\n",
    "    <link rel=\"stylesheet\" type=\"text/css\" href=\"style.css\">\n",
    "    <meta charset=\"utf-8\" />\n",
    "\n",
    "  </head>\n",
    "  <body>\n",
    "    \n",
    "    <h1> i am making video </h1>\n",
    "    <p> this is my essay abaout how i love to videos</p>\n",
    "    <script src=\"sketch.js\"></script>\n",
    "  </body>\n",
    "</html>\n",
    "\n",
    "\n",
    "\n"
   ]
  },
  {
   "cell_type": "code",
   "execution_count": 737,
   "metadata": {},
   "outputs": [
    {
     "ename": "SyntaxError",
     "evalue": "invalid syntax (<ipython-input-737-6b4e9fb52d10>, line 4)",
     "output_type": "error",
     "traceback": [
      "\u001b[0;36m  File \u001b[0;32m\"<ipython-input-737-6b4e9fb52d10>\"\u001b[0;36m, line \u001b[0;32m4\u001b[0m\n\u001b[0;31m    int i = 0;\u001b[0m\n\u001b[0m        ^\u001b[0m\n\u001b[0;31mSyntaxError\u001b[0m\u001b[0;31m:\u001b[0m invalid syntax\n"
     ]
    }
   ],
   "source": [
    "from IPython.display import HTML\n",
    "\n",
    "\n",
    "int i = 0;\n",
    "void setup() {\n",
    " size(400, 400);\n",
    " stroke(0,0,0,100);\n",
    " colorMode(HSB);\n",
    "}\n",
    "void draw() {\n",
    " i++;\n",
    " fill(255 * sin(i / 240.0) * sin(i / 240.0), 200, 175, 50);\n",
    " ellipse(mouseX, mouseY, 50, 50);\n",
    "}\n",
    "\n",
    "html_template = \"\"\"\n",
    "\n",
    "<script type=\"text/javascript\" src=\"processing.min.js\"></script> \n",
    "<script type=\"text/javascript\">\n",
    "  var processingCode = `{}`;\n",
    "  var myCanvas = document.getElementById(\"canvas1\");\n",
    "  var jsCode = Processing.compile(processingCode);\n",
    "  var processingInstance = new Processing(myCanvas, jsCode);\n",
    " </script>\n",
    "<canvas id=\"canvas1\"> </canvas>    \n",
    "\"\"\"\n",
    "html_code = html_template.format(processing_code)\n",
    "HTML(html_code)\n"
   ]
  },
  {
   "cell_type": "code",
   "execution_count": 7,
   "metadata": {},
   "outputs": [
    {
     "data": {
      "text/html": [
       "\n",
       "        <iframe\n",
       "            width=\"100%\"\n",
       "            height=\"400\"\n",
       "            src=\"p5-4.html\"\n",
       "            frameborder=\"0\"\n",
       "            allowfullscreen\n",
       "        ></iframe>\n",
       "        "
      ],
      "text/plain": [
       "<IPython.lib.display.IFrame at 0x104d99588>"
      ]
     },
     "execution_count": 7,
     "metadata": {},
     "output_type": "execute_result"
    }
   ],
   "source": [
    "%%p5\n",
    "\n",
    "var bgcolor;\n",
    "var button;\n",
    "var slider;\n",
    "var input;\n",
    "var nameP;\n",
    "\n",
    "function setup() {\n",
    "  canvas = createCanvas(200, 200);\n",
    "  canvas.mouseOver(overpara);\n",
    "  canvas.mouseOut(outpara);\n",
    "  canvas.mousePressed(changeColor);\n",
    "\n",
    "  bgcolor = color(200);\n",
    "  nameP = createP('your name!');\n",
    "\n",
    "    \n",
    "\n",
    "     button = createButton(\"go\");\n",
    "     button.mousePressed(changeColor);\n",
    "     slider = createSlider(10, 100, 86);\n",
    "     input = createInput('type your name');\n",
    "\n",
    "\n",
    "    nameP.mouseOver(overpara);\n",
    "    nameP.mouseOut(outpara);\n",
    "\n",
    "    input.changed(updateText);\n",
    "\n",
    "    \n",
    "}\n",
    " \n",
    "function updateText() {\n",
    "  nameP.html(input.value());\n",
    "}\n",
    "\n",
    "function overpara() {\n",
    "  nameP.html('your mouse is over me ');\n",
    "\n",
    "}\n",
    "\n",
    "function outpara(){\n",
    "   nameP.html('your mouse is out ');\n",
    "}\n",
    "\n",
    "function changeColor(){\n",
    "   bgcolor = color(random(255));\n",
    "}\n",
    "\n",
    "\n",
    "function draw(){\n",
    "   background(bgcolor);\n",
    "   fill(255, 0, 175);\n",
    "   ellipse(100, 100, slider.value(), slider.value());\n",
    "   text(input.value(), 10, 20);\n",
    "\n",
    "}\n"
   ]
  },
  {
   "cell_type": "code",
   "execution_count": 44,
   "metadata": {},
   "outputs": [
    {
     "data": {
      "text/html": [
       "\n",
       "        <iframe\n",
       "            width=\"100%\"\n",
       "            height=\"400\"\n",
       "            src=\"p5-40.html\"\n",
       "            frameborder=\"0\"\n",
       "            allowfullscreen\n",
       "        ></iframe>\n",
       "        "
      ],
      "text/plain": [
       "<IPython.lib.display.IFrame at 0x104d7fa90>"
      ]
     },
     "execution_count": 44,
     "metadata": {},
     "output_type": "execute_result"
    }
   ],
   "source": [
    "%%p5                     //8.14 \n",
    "\n",
    "\n",
    "function setup() {\n",
    "  noCanvas();\n",
    "  for (var i = 0; i < 5; i++){\n",
    "  var p = createP('this is a link: ');\n",
    "  p.style('background-color', '·CCC');\n",
    "  p.style('pandding', '24px');\n",
    "  \n",
    "  var a = createA('#', 'apples');\n",
    "  a.mousePressed(addphoto);\n",
    "  a.parent(p);\n",
    "  }\n",
    "}\n",
    "\n",
    "function addphoto() {\n",
    "   var img = createImg('apple.jpg');\n",
    "  img.size(100, 100);\n",
    "    \n",
    "  var paragraph = this.parent();  \n",
    "    \n",
    "  img.parent(paragraph);\n",
    " \n",
    "}"
   ]
  },
  {
   "cell_type": "code",
   "execution_count": 49,
   "metadata": {},
   "outputs": [
    {
     "data": {
      "text/html": [
       "\n",
       "        <iframe\n",
       "            width=\"100%\"\n",
       "            height=\"400\"\n",
       "            src=\"p5-45.html\"\n",
       "            frameborder=\"0\"\n",
       "            allowfullscreen\n",
       "        ></iframe>\n",
       "        "
      ],
      "text/plain": [
       "<IPython.lib.display.IFrame at 0x104d7fd30>"
      ]
     },
     "execution_count": 49,
     "metadata": {},
     "output_type": "execute_result"
    }
   ],
   "source": [
    "%%p5 \n",
    "\n",
    "var dropzone;\n",
    "function setup() {\n",
    "    createCanvas(200, 200);\n",
    "    background(0);\n",
    "    \n",
    "    \n",
    "    dropzone = select('#dropzone');\n",
    "    dropzone.dragOver(highlight);\n",
    "    dropzone.dragLeave(unhighlight);\n",
    "}\n",
    "\n",
    "function highlight() {\n",
    "    dropzone.style('background-color','#ccc');\n",
    "}\n",
    "\n",
    "function unhighlight() {\n",
    "    dropzone.style('background-color','#fff');\n",
    "}\n"
   ]
  },
  {
   "cell_type": "code",
   "execution_count": 10,
   "metadata": {},
   "outputs": [
    {
     "data": {
      "text/html": [
       "\n",
       "        <iframe\n",
       "            width=\"100%\"\n",
       "            height=\"400\"\n",
       "            src=\"p5-8.html\"\n",
       "            frameborder=\"0\"\n",
       "            allowfullscreen\n",
       "        ></iframe>\n",
       "        "
      ],
      "text/plain": [
       "<IPython.lib.display.IFrame at 0x104da5b70>"
      ]
     },
     "execution_count": 10,
     "metadata": {},
     "output_type": "execute_result"
    }
   ],
   "source": [
    "%%p5       //8.16 slider\n",
    "\n",
    "var sliders = [];\n",
    "\n",
    "var angle = 0;\n",
    "\n",
    "function setup(){\n",
    "    noCanvas();\n",
    "    //createCanvas(200,200); //\n",
    "    for (var i = 0; i < 100; i++) {\n",
    "      sliders[i] = createSlider(0, 255, 50);  \n",
    "    }\n",
    "}\n",
    "\n",
    "\n",
    "function draw() {\n",
    "    \n",
    "    var offset = 0;\n",
    "    for (var i = 0; i <sliders.length; i++) {\n",
    "        var x = map(sin(angle+offset), -1, 1, 0, 255);\n",
    "        sliders[i]. value(x);\n",
    "        offset += 0.25;\n",
    "    }\n",
    "    angle += 0.1;\n",
    "}"
   ]
  },
  {
   "cell_type": "code",
   "execution_count": null,
   "metadata": {},
   "outputs": [],
   "source": [
    "%%p5\n",
    "\n"
   ]
  }
 ],
 "metadata": {
  "kernelspec": {
   "display_name": "Python 3",
   "language": "python",
   "name": "python3"
  },
  "language_info": {
   "codemirror_mode": {
    "name": "ipython",
    "version": 3
   },
   "file_extension": ".py",
   "mimetype": "text/x-python",
   "name": "python",
   "nbconvert_exporter": "python",
   "pygments_lexer": "ipython3",
   "version": "3.6.4"
  }
 },
 "nbformat": 4,
 "nbformat_minor": 2
}
